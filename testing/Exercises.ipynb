{
 "metadata": {
  "name": "",
  "signature": "sha256:a377a881d837beaba46b4dbf40a68c7bf35828be163d0899e99408a68c594238"
 },
 "nbformat": 3,
 "nbformat_minor": 0,
 "worksheets": [
  {
   "cells": [
    {
     "cell_type": "heading",
     "level": 1,
     "metadata": {},
     "source": [
      "Exercises in Software carpentry"
     ]
    },
    {
     "cell_type": "markdown",
     "metadata": {},
     "source": [
      "Before you start, copy the contents of the subfolder `carpentry_exercises` into your exercise repository."
     ]
    },
    {
     "cell_type": "heading",
     "level": 2,
     "metadata": {},
     "source": [
      "Exercise 1 \u2013\u00a0Writing a test suite [basic]"
     ]
    },
    {
     "cell_type": "markdown",
     "metadata": {},
     "source": [
      "*Goals: Write a test suite using the `unittest` module.*\n",
      "\n",
      "Write a test file, `test_center.py`, that tests the function center from the module `string` (http://docs.python.org/library/string.html#string.center). At each step, run the tests and make sure they pass.\n",
      "\n",
      "In the file, write three test cases:\n",
      "\n",
      "a) The first test case checks the functionality of the function, leaving the argument fillchar set to its default value. Control that the function works as advertised for\n",
      "  1. odd and even widths\n",
      "  2. a width smaller than the length of the string\n",
      "  3. an empty input string\n",
      "  4. a string containing spaces to either extremity\n",
      "Test that the length of the returned string is correct and that it looks like you expect it to.\n",
      "*Hint*: when the number of spaces to be added is odd, there are two possible ways to center a string. The docstring does not specify which one is correct, so you should test that the returned string is one *or* the other.\n",
      "\n",
      "b) The second test case checks the functionality of `string.center`, with *fillchar* set to specific values. Test using a letter, a numerical value, and the default value.\n",
      "\n",
      "c) Finally, test that `string.center` raises a `TypeError` when *fillchar* is set to an empty string, and to a string longer than one character."
     ]
    },
    {
     "cell_type": "heading",
     "level": 2,
     "metadata": {},
     "source": [
      "Exercise 2 \u2013 Testing with numpy and numerical fuzzing [basic]"
     ]
    },
    {
     "cell_type": "markdown",
     "metadata": {},
     "source": [
      "*Goals: Use the `numpy.testing` utility functions and numerical fuzzing techniques to test numerical code.*\n",
      "\n",
      "Write a new test suite, `test_multinomial.py`, to test the function `numpy.random.multinomial` (http://tinyurl.com/448f5dz).\n",
      "\n",
      "a) Read the documentation and play with the function using `ipython` until you are sure you understand how it works (always leave the size argument to its default value).\n",
      "\n",
      "b) Write a first test case, testing the function in deterministic cases:\n",
      "  1. when one of the entries has probability 1.0 and the others 0.0, the\n",
      "returned samples must consist only of the entry with probability mass\n",
      "  2. when one of the entries has probability 0.0, it must not appear in the\n",
      "returned samples\n",
      "\n",
      "c) Write a numerical fuzzing test case that verifies that, with a large number of\n",
      "samples, the sampling frequency of each entry is close to its probability."
     ]
    },
    {
     "cell_type": "heading",
     "level": 2,
     "metadata": {},
     "source": [
      "Exercise 3 \u2013 Deceivingly simple function [intermediate]"
     ]
    },
    {
     "cell_type": "markdown",
     "metadata": {},
     "source": [
      "*Goals: General practice of debugging and unit testing using agile development techniques.*\n",
      "\n",
      "Enter the directory `deceivingly_simple`. The file `maxima.py` contains a function, `find_maxima`, that finds local maxima in a list and returns their indices. Please read the last sentence again: it returns the *indices*, not the *values*. ;)\n",
      "\n",
      "a) Using `ipython`, test the function with these input arguments and others of your own invention until you are satisfied that it does the right thing for typical cases (remember that the function returns the indices of the maxima):\n",
      "\n",
      "    x = [0, 1, 2, 1, 2, 1, 0]\n",
      "    x = [-i**2 for i in range(-3, 4)]\n",
      "    x = [numpy.sin(2*alpha) for alpha in numpy.linspace(0.0, 5.0, 100)]\n",
      "\n",
      "b) Now try with the following inputs:\n",
      "\n",
      "     x = [4, 2, 1, 3, 1, 2]\n",
      "     x = [4, 2, 1, 3, 1, 5]\n",
      "     x = [4, 2, 1, 3, 1]\n",
      "\n",
      "  For each bug you find, solve it using the agile programming strategy:\n",
      "  \n",
      "  i. Isolate the bug using a debugger\n",
      "  \n",
      "  ii. Write a new test case that reproduces the bug. Try to make the test case as simple as possible; here, this means using the simplest input data that still triggers the bug\n",
      "  \n",
      "  iii. Correct the code\n",
      "  \n",
      "  iv. Makesurethatallthetestspass\n",
      "\n",
      "c) You may think that the code is now clean and robust... Look at the output of the function for the input list\n",
      "\n",
      "    x = [1, 2, 2, 1]\n",
      "\n",
      "  Does the output correspond to your intuition? Think about a reasonable default behavior in this situation, and meditate on how such a simple function can hide so many complications\n",
      "\n",
      "d) (optional) Implement the \u201creasonable behavior\u201d you conceived in c), adding a new test.\n",
      "  Make sure that your function handles these inputs correctly (include them in the tests):\n",
      "\n",
      "    x = [1, 2, 2, 3, 1]\n",
      "    x = [1, 3, 2, 2, 1]\n",
      "    x = [3, 2, 2, 3]\n",
      "\n",
      "e) (optional) Run a coverage analysis on the tests; there should be at least one statement that is not covered. Write a test that covers it and debug the code."
     ]
    }
   ],
   "metadata": {}
  }
 ]
}