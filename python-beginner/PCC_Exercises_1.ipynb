{
 "metadata": {
  "name": "",
  "signature": "sha256:347e01459ec3a0898746279583656689b1c372b93fabc028946a341034e2fb47"
 },
 "nbformat": 3,
 "nbformat_minor": 0,
 "worksheets": [
  {
   "cells": [
    {
     "cell_type": "markdown",
     "metadata": {},
     "source": [
      "**Remember**: Pair-Programming \u2192 take care of your neighbor"
     ]
    },
    {
     "cell_type": "markdown",
     "metadata": {},
     "source": [
      "# Exercise 1 \u2014 Temperature Converter#\n",
      "\n",
      "* Write a generic temperature converter function (Kelvin, Fahrenheit, Celsius \u2192 Kelvin, Fahrenheit, Celsius)\n",
      "* Check it against the [one by google](http://www.google.com/search?q=temperature+conversion)"
     ]
    },
    {
     "cell_type": "markdown",
     "metadata": {},
     "source": [
      "# Exercise 2 \u2014 A Deception Experiment #\n",
      "* Look for a text online that would be funny to deceive (max 1000 words) [we use here the beginning of Alice in Wonderland as an example: http://sabian.org/alice_in_wonderland1.php ]\n",
      "* Copy it in a text file\n",
      "* Create a dictionary of all words with their occurrences [think about what to do with casing, commas, dots, columns, etc.]\n",
      "* Create a deception dictionary with at least 50 words [a deception dictionary maps a word to another word, e.g. `{'house': 'boat'}`]\n",
      "* Write one or several functions in order to accomplish the following tasks:\n",
      "    * read two text files, one with an arbitrary text to be deceived and one with a deception map, where every line contains two words [\"original word\" \"mapped word\"]\n",
      "    * create and save to a third text file a deceived version of the input text"
     ]
    },
    {
     "cell_type": "code",
     "collapsed": false,
     "input": [],
     "language": "python",
     "metadata": {},
     "outputs": []
    }
   ],
   "metadata": {}
  }
 ]
}