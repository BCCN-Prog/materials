{
 "metadata": {
  "name": "",
  "signature": "sha256:b4ca2b23e7ddaa567210728f08d6822d53b7000f88e907de6b46d8608b6d9aa7"
 },
 "nbformat": 3,
 "nbformat_minor": 0,
 "worksheets": [
  {
   "cells": [
    {
     "cell_type": "markdown",
     "metadata": {},
     "source": [
      "Installation\n",
      "============\n",
      "\n",
      "If you have a Mac or a Windows computer, the easiest way of getting Python together with all the most useful scientific libraries installed is to just install a Python Distribution.\n",
      "You can choose between:\n",
      "  \n",
      "  - [Anaconda](http://www.continuum.io/downloads) by Continuum Analytics (recommended)\n",
      "  - [Canopy](http://www.continuum.io/downloads) by Enthought\n",
      "\n",
      "Both of these are one-click installers containing Python and a collection of scientific libraries, including the Ipython Notebook that we use for the lecture.\n",
      "\n",
      "If you are a Linux user, you may prefer to use the standard package manager to install the required packages. You will need at least `python2.7`, `ipython-notebook`, `python-numpy`, `python-scipy`, and `python-matplotlib`."
     ]
    },
    {
     "cell_type": "code",
     "collapsed": false,
     "input": [],
     "language": "python",
     "metadata": {},
     "outputs": []
    },
    {
     "cell_type": "markdown",
     "metadata": {},
     "source": [
      "Basics\n",
      "======\n",
      "-----------------------------------------\n",
      "\n",
      "### The \"hello world\" program ###"
     ]
    },
    {
     "cell_type": "code",
     "collapsed": false,
     "input": [
      "print \"Hello World!\""
     ],
     "language": "python",
     "metadata": {},
     "outputs": []
    },
    {
     "cell_type": "markdown",
     "metadata": {},
     "source": [
      "* Python provides both an interactive way to develop code and a way to execute scripts\n",
      "* What you do interactively is basically the same thing you (can) do in your scripts\n",
      "* Open an editor (gedit) an copy the previous line in a file. Save it with the name hello.py\n",
      "* Run it with:\n",
      "\n",
      "        $ python hello.py"
     ]
    },
    {
     "cell_type": "markdown",
     "metadata": {},
     "source": [
      "### Calculator ###"
     ]
    },
    {
     "cell_type": "code",
     "collapsed": false,
     "input": [
      "2 + 2"
     ],
     "language": "python",
     "metadata": {},
     "outputs": []
    },
    {
     "cell_type": "code",
     "collapsed": false,
     "input": [
      "4 - 2"
     ],
     "language": "python",
     "metadata": {},
     "outputs": []
    },
    {
     "cell_type": "code",
     "collapsed": false,
     "input": [
      "2.1 + 2"
     ],
     "language": "python",
     "metadata": {},
     "outputs": []
    },
    {
     "cell_type": "code",
     "collapsed": false,
     "input": [
      "3/2"
     ],
     "language": "python",
     "metadata": {},
     "outputs": []
    },
    {
     "cell_type": "code",
     "collapsed": false,
     "input": [
      "3.0/2.0"
     ],
     "language": "python",
     "metadata": {},
     "outputs": []
    },
    {
     "cell_type": "code",
     "collapsed": false,
     "input": [
      "2*3"
     ],
     "language": "python",
     "metadata": {},
     "outputs": []
    },
    {
     "cell_type": "code",
     "collapsed": false,
     "input": [
      "1+2j"
     ],
     "language": "python",
     "metadata": {},
     "outputs": []
    },
    {
     "cell_type": "code",
     "collapsed": false,
     "input": [
      "(3.0*10.0 - 25.0)/5.0"
     ],
     "language": "python",
     "metadata": {},
     "outputs": []
    },
    {
     "cell_type": "code",
     "collapsed": false,
     "input": [
      "3.085e18*1e6"
     ],
     "language": "python",
     "metadata": {},
     "outputs": []
    },
    {
     "cell_type": "markdown",
     "metadata": {},
     "source": [
      "### Declaring variables ###"
     ]
    },
    {
     "cell_type": "code",
     "collapsed": false,
     "input": [
      "t = 1.0  \n",
      "a = 9.8 \n",
      "s = 0.5*a*(t**2)\n",
      "print s "
     ],
     "language": "python",
     "metadata": {},
     "outputs": []
    },
    {
     "cell_type": "markdown",
     "metadata": {},
     "source": [
      "### In-place operators"
     ]
    },
    {
     "cell_type": "code",
     "collapsed": false,
     "input": [
      "x = 1\n",
      "x += 3\n",
      "x"
     ],
     "language": "python",
     "metadata": {},
     "outputs": []
    },
    {
     "cell_type": "code",
     "collapsed": false,
     "input": [
      "x *= 5\n",
      "x "
     ],
     "language": "python",
     "metadata": {},
     "outputs": []
    },
    {
     "cell_type": "markdown",
     "metadata": {},
     "source": [
      "### Comparisons ###"
     ]
    },
    {
     "cell_type": "code",
     "collapsed": false,
     "input": [
      "x1 = 10; x2 = 10"
     ],
     "language": "python",
     "metadata": {},
     "outputs": []
    },
    {
     "cell_type": "code",
     "collapsed": false,
     "input": [
      "x1 == x2"
     ],
     "language": "python",
     "metadata": {},
     "outputs": []
    },
    {
     "cell_type": "code",
     "collapsed": false,
     "input": [
      "x1 < 3"
     ],
     "language": "python",
     "metadata": {},
     "outputs": []
    },
    {
     "cell_type": "code",
     "collapsed": false,
     "input": [
      "x1 >= 10"
     ],
     "language": "python",
     "metadata": {},
     "outputs": []
    },
    {
     "cell_type": "code",
     "collapsed": false,
     "input": [
      "x3 = 12\n",
      "x1 < 11 < x3"
     ],
     "language": "python",
     "metadata": {},
     "outputs": []
    },
    {
     "cell_type": "markdown",
     "metadata": {},
     "source": [
      "### Strings ###"
     ]
    },
    {
     "cell_type": "code",
     "collapsed": false,
     "input": [
      "x = \"spam\"\n",
      "x"
     ],
     "language": "python",
     "metadata": {},
     "outputs": []
    },
    {
     "cell_type": "code",
     "collapsed": false,
     "input": [
      "print \"hello\\nworld!\\tI said.\""
     ],
     "language": "python",
     "metadata": {},
     "outputs": []
    },
    {
     "cell_type": "code",
     "collapsed": false,
     "input": [
      "\"hello\" == 'hello'"
     ],
     "language": "python",
     "metadata": {},
     "outputs": []
    },
    {
     "cell_type": "code",
     "collapsed": false,
     "input": [
      "\"hello\" < \"hallo\""
     ],
     "language": "python",
     "metadata": {},
     "outputs": []
    },
    {
     "cell_type": "code",
     "collapsed": false,
     "input": [
      "\"hello\" > \"bike\""
     ],
     "language": "python",
     "metadata": {},
     "outputs": []
    },
    {
     "cell_type": "code",
     "collapsed": false,
     "input": [
      "y = \"\"\"Multiline string are\n",
      "in triple quotes\n",
      "      Indentation is preserved!\n",
      "\"\"\"\n",
      "print y"
     ],
     "language": "python",
     "metadata": {},
     "outputs": []
    },
    {
     "cell_type": "code",
     "collapsed": false,
     "input": [
      "s = \"hello\" ; e = \"world\"\n",
      "print s + e"
     ],
     "language": "python",
     "metadata": {},
     "outputs": []
    },
    {
     "cell_type": "code",
     "collapsed": false,
     "input": [
      "s = 'hello'\n",
      "len(s)"
     ],
     "language": "python",
     "metadata": {},
     "outputs": []
    },
    {
     "cell_type": "code",
     "collapsed": false,
     "input": [
      "s[0]"
     ],
     "language": "python",
     "metadata": {},
     "outputs": []
    },
    {
     "cell_type": "code",
     "collapsed": false,
     "input": [
      "s[-1]"
     ],
     "language": "python",
     "metadata": {},
     "outputs": []
    },
    {
     "cell_type": "code",
     "collapsed": false,
     "input": [
      "s[1:3]"
     ],
     "language": "python",
     "metadata": {},
     "outputs": []
    },
    {
     "cell_type": "code",
     "collapsed": false,
     "input": [
      "s[2:]"
     ],
     "language": "python",
     "metadata": {},
     "outputs": []
    },
    {
     "cell_type": "code",
     "collapsed": false,
     "input": [
      "x = float('3.2')\n",
      "y = 4\n",
      "y+x"
     ],
     "language": "python",
     "metadata": {},
     "outputs": []
    },
    {
     "cell_type": "code",
     "collapsed": false,
     "input": [
      "y + '3.2'"
     ],
     "language": "python",
     "metadata": {},
     "outputs": []
    },
    {
     "cell_type": "markdown",
     "metadata": {},
     "source": [
      "### Lists ###\n",
      "\n",
      "* A ordered sequence of objects"
     ]
    },
    {
     "cell_type": "code",
     "collapsed": false,
     "input": [
      "l = [1, 2, 3, 4]\n",
      "l"
     ],
     "language": "python",
     "metadata": {},
     "outputs": []
    },
    {
     "cell_type": "code",
     "collapsed": false,
     "input": [
      "l = [1, \"hello\", \"x\", 1/3., 4 > 2]\n",
      "l"
     ],
     "language": "python",
     "metadata": {},
     "outputs": []
    },
    {
     "cell_type": "code",
     "collapsed": false,
     "input": [
      "l[0]"
     ],
     "language": "python",
     "metadata": {},
     "outputs": []
    },
    {
     "cell_type": "code",
     "collapsed": false,
     "input": [
      "l[-2]"
     ],
     "language": "python",
     "metadata": {},
     "outputs": []
    },
    {
     "cell_type": "code",
     "collapsed": false,
     "input": [
      "l[1:3]"
     ],
     "language": "python",
     "metadata": {},
     "outputs": []
    },
    {
     "cell_type": "code",
     "collapsed": false,
     "input": [
      "l = range(11)\n",
      "l"
     ],
     "language": "python",
     "metadata": {},
     "outputs": []
    },
    {
     "cell_type": "code",
     "collapsed": false,
     "input": [
      "l[0:8:2]"
     ],
     "language": "python",
     "metadata": {},
     "outputs": []
    },
    {
     "cell_type": "code",
     "collapsed": false,
     "input": [
      "l[::2]"
     ],
     "language": "python",
     "metadata": {},
     "outputs": []
    },
    {
     "cell_type": "code",
     "collapsed": false,
     "input": [
      "l[-4:2:-2]"
     ],
     "language": "python",
     "metadata": {},
     "outputs": []
    },
    {
     "cell_type": "code",
     "collapsed": false,
     "input": [
      "l[0] = \"world\"\n",
      "l"
     ],
     "language": "python",
     "metadata": {},
     "outputs": []
    },
    {
     "cell_type": "code",
     "collapsed": false,
     "input": [
      "l.append(100)\n",
      "l"
     ],
     "language": "python",
     "metadata": {},
     "outputs": []
    },
    {
     "cell_type": "markdown",
     "metadata": {},
     "source": [
      "* Concatenate lists with `+` operator:"
     ]
    },
    {
     "cell_type": "code",
     "collapsed": false,
     "input": [
      "l2 = ['x', 'y', 'z']\n",
      "long_l = l + l2\n",
      "long_l"
     ],
     "language": "python",
     "metadata": {},
     "outputs": []
    },
    {
     "cell_type": "code",
     "collapsed": false,
     "input": [
      "l = [10, 7, 9, 1, 5]\n",
      "l.sort()\n",
      "l"
     ],
     "language": "python",
     "metadata": {},
     "outputs": []
    },
    {
     "cell_type": "markdown",
     "metadata": {},
     "source": [
      "### Dictionaries ###\n",
      "* A table that maps keys to values"
     ]
    },
    {
     "cell_type": "code",
     "collapsed": false,
     "input": [
      "tel = {'John': 7192, 'Jim': 9871, 'Jan': 1253}\n",
      "tel"
     ],
     "language": "python",
     "metadata": {},
     "outputs": []
    },
    {
     "cell_type": "code",
     "collapsed": false,
     "input": [
      "tel['John']"
     ],
     "language": "python",
     "metadata": {},
     "outputs": []
    },
    {
     "cell_type": "code",
     "collapsed": false,
     "input": [
      "tel['Marc'] = 2345\n",
      "tel"
     ],
     "language": "python",
     "metadata": {},
     "outputs": []
    },
    {
     "cell_type": "code",
     "collapsed": false,
     "input": [
      "tel.keys()"
     ],
     "language": "python",
     "metadata": {},
     "outputs": []
    },
    {
     "cell_type": "code",
     "collapsed": false,
     "input": [
      "tel.values()"
     ],
     "language": "python",
     "metadata": {},
     "outputs": []
    },
    {
     "cell_type": "code",
     "collapsed": false,
     "input": [
      "tel.items()"
     ],
     "language": "python",
     "metadata": {},
     "outputs": []
    },
    {
     "cell_type": "code",
     "collapsed": false,
     "input": [
      "'John' in tel"
     ],
     "language": "python",
     "metadata": {},
     "outputs": []
    },
    {
     "cell_type": "code",
     "collapsed": false,
     "input": [
      "'Sam' in tel"
     ],
     "language": "python",
     "metadata": {},
     "outputs": []
    },
    {
     "cell_type": "markdown",
     "metadata": {},
     "source": [
      "### Sets ###\n",
      "* An unordered collection of unique elements\n",
      "* In contrast to lists where finding an element takes O(n), look-up happens in O(1)\n",
      "* Like dictionaries but only with keys"
     ]
    },
    {
     "cell_type": "code",
     "collapsed": false,
     "input": [
      "myset = set(['a', 333, 'b'])"
     ],
     "language": "python",
     "metadata": {},
     "outputs": []
    },
    {
     "cell_type": "code",
     "collapsed": false,
     "input": [
      "'a' in myset"
     ],
     "language": "python",
     "metadata": {},
     "outputs": []
    },
    {
     "cell_type": "code",
     "collapsed": false,
     "input": [
      "222 in myset"
     ],
     "language": "python",
     "metadata": {},
     "outputs": []
    },
    {
     "cell_type": "markdown",
     "metadata": {},
     "source": [
      "# Logical flow control #\n",
      "* `if...elif...else`\n",
      "* `for ... in ...`\n",
      "* `while ...` "
     ]
    },
    {
     "cell_type": "markdown",
     "metadata": {},
     "source": [
      "### `If...elif...else` ###"
     ]
    },
    {
     "cell_type": "code",
     "collapsed": false,
     "input": [
      "if 2*2 == 5:\n",
      "    print 'I know that!'"
     ],
     "language": "python",
     "metadata": {},
     "outputs": []
    },
    {
     "cell_type": "markdown",
     "metadata": {},
     "source": [
      "* Blocks are delimited by indentation (4 spaces)"
     ]
    },
    {
     "cell_type": "code",
     "collapsed": false,
     "input": [
      "if 2*2 == 4:\n",
      "print 'I know that!'"
     ],
     "language": "python",
     "metadata": {},
     "outputs": []
    },
    {
     "cell_type": "code",
     "collapsed": false,
     "input": [
      "if 2*2 == 4:\n",
      "    print 'I know that'\n",
      "     print 'Wrong indentation'"
     ],
     "language": "python",
     "metadata": {},
     "outputs": []
    },
    {
     "cell_type": "code",
     "collapsed": false,
     "input": [
      "if 2*2 == 4:\n",
      "    print 'I know that'\n",
      "print 'This closes the block'"
     ],
     "language": "python",
     "metadata": {},
     "outputs": []
    },
    {
     "cell_type": "code",
     "collapsed": false,
     "input": [
      "x = -1\n",
      "if x > 0:\n",
      "    print \"positive\"\n",
      "elif x == 0:\n",
      "    print \"zero\"\n",
      "else:\n",
      "    print \"negative\""
     ],
     "language": "python",
     "metadata": {},
     "outputs": []
    },
    {
     "cell_type": "code",
     "collapsed": false,
     "input": [
      "x, y = 10, 20\n",
      "if x < 0 or y < 100:\n",
      "    print \"yes\"\n",
      "else:\n",
      "    print \"no\""
     ],
     "language": "python",
     "metadata": {},
     "outputs": []
    },
    {
     "cell_type": "code",
     "collapsed": false,
     "input": [
      "y = 20\n",
      "x = y+2 if y < 10 else 100\n",
      "print x"
     ],
     "language": "python",
     "metadata": {},
     "outputs": []
    },
    {
     "cell_type": "markdown",
     "metadata": {},
     "source": [
      "### `for ... in ...` ###"
     ]
    },
    {
     "cell_type": "code",
     "collapsed": false,
     "input": [
      "for i in range(10):\n",
      "    print i"
     ],
     "language": "python",
     "metadata": {},
     "outputs": []
    },
    {
     "cell_type": "code",
     "collapsed": false,
     "input": [
      "for i in [0,1,2]:\n",
      "    print i+2"
     ],
     "language": "python",
     "metadata": {},
     "outputs": []
    },
    {
     "cell_type": "code",
     "collapsed": false,
     "input": [
      "l = ['x', 10, {'Mark': 1012}]\n",
      "for item in l:\n",
      "    print item"
     ],
     "language": "python",
     "metadata": {},
     "outputs": []
    },
    {
     "cell_type": "code",
     "collapsed": false,
     "input": [
      "tel_book = {'Jan': 1253, 'Jim': 9871, 'John': 7192}\n",
      "for name in tel_book:\n",
      "    print name, 'telephone number is:', tel_book[name]"
     ],
     "language": "python",
     "metadata": {},
     "outputs": []
    },
    {
     "cell_type": "code",
     "collapsed": false,
     "input": [
      "for index, name in enumerate(tel_book):\n",
      "    print index, name"
     ],
     "language": "python",
     "metadata": {},
     "outputs": []
    },
    {
     "cell_type": "code",
     "collapsed": false,
     "input": [
      "for index, obj in enumerate(l):\n",
      "    print index, obj"
     ],
     "language": "python",
     "metadata": {},
     "outputs": []
    },
    {
     "cell_type": "markdown",
     "metadata": {},
     "source": [
      "* For loop can be executed implicitly in list comprehensions:"
     ]
    },
    {
     "cell_type": "code",
     "collapsed": false,
     "input": [
      "squares = [x**2 for x in range(10)]\n",
      "squares"
     ],
     "language": "python",
     "metadata": {},
     "outputs": []
    },
    {
     "cell_type": "code",
     "collapsed": false,
     "input": [
      "squares = []\n",
      "for i in range(10):\n",
      "    value = i**2\n",
      "    squares.append(value)\n",
      "\n",
      "print squares"
     ],
     "language": "python",
     "metadata": {},
     "outputs": []
    },
    {
     "cell_type": "code",
     "collapsed": false,
     "input": [
      "squares = [x**2 for x in range(10) if x**3 < 50]\n",
      "squares"
     ],
     "language": "python",
     "metadata": {},
     "outputs": []
    },
    {
     "cell_type": "code",
     "collapsed": false,
     "input": [
      "squares = []\n",
      "for x in range(10):\n",
      "    val = x**2\n",
      "    if x**3 < 50:\n",
      "        squares.append(val)\n",
      "\n",
      "print squares"
     ],
     "language": "python",
     "metadata": {},
     "outputs": []
    },
    {
     "cell_type": "markdown",
     "metadata": {},
     "source": [
      "### `while ...` ###"
     ]
    },
    {
     "cell_type": "code",
     "collapsed": false,
     "input": [
      "# find all odd numbers whose square is smaller than 10000\n",
      "# and whose cube is greater than 500\n",
      "interesting_numbs = []\n",
      "x = 0\n",
      "while x**2 < 1e4:\n",
      "    if (x % 2 != 0) and (x**3 > 500):\n",
      "        interesting_numbs.append(x)\n",
      "    x += 1\n",
      "\n",
      "print interesting_numbs\n",
      "    "
     ],
     "language": "python",
     "metadata": {},
     "outputs": []
    },
    {
     "cell_type": "code",
     "collapsed": false,
     "input": [
      "# throw random numbers until we get one smaller than 0.2\n",
      "from random import random\n",
      "counter = 0\n",
      "while True:\n",
      "    x = random()\n",
      "    counter += 1\n",
      "    if x < 0.04:\n",
      "        break\n",
      "\n",
      "print 'After', counter, 'trials, I got', x\n",
      "    "
     ],
     "language": "python",
     "metadata": {},
     "outputs": []
    },
    {
     "cell_type": "markdown",
     "metadata": {},
     "source": [
      "-----------------"
     ]
    },
    {
     "cell_type": "markdown",
     "metadata": {},
     "source": [
      "## Defining functions ##"
     ]
    },
    {
     "cell_type": "code",
     "collapsed": false,
     "input": [
      "def double(x):\n",
      "    \"\"\"Return twice the input\n",
      "    \n",
      "    :param x: the value to be doubled\n",
      "    \n",
      "    :return: twice the amount of x\n",
      "    \n",
      "    \"\"\"\n",
      "    # maybe use + instead of * ?\n",
      "    y = x*2\n",
      "    return y"
     ],
     "language": "python",
     "metadata": {},
     "outputs": []
    },
    {
     "cell_type": "code",
     "collapsed": false,
     "input": [
      "z = double(10)\n",
      "print z"
     ],
     "language": "python",
     "metadata": {},
     "outputs": []
    },
    {
     "cell_type": "code",
     "collapsed": false,
     "input": [
      "double('hello world!')"
     ],
     "language": "python",
     "metadata": {},
     "outputs": []
    },
    {
     "cell_type": "code",
     "collapsed": false,
     "input": [
      "double(2+1j)"
     ],
     "language": "python",
     "metadata": {},
     "outputs": []
    },
    {
     "cell_type": "code",
     "collapsed": false,
     "input": [
      "double()"
     ],
     "language": "python",
     "metadata": {},
     "outputs": []
    },
    {
     "cell_type": "code",
     "collapsed": false,
     "input": [
      "def double_improved(x, method='*'):\n",
      "    \"\"\"Return twice the input.\n",
      "       \n",
      "    :param x: the value to be doubled\n",
      "    \n",
      "    :param method: \n",
      "    \n",
      "        *optional* argument specifying  \n",
      "        the method to double `x`\n",
      "    \n",
      "    :return: twice the amount of x\n",
      "    \n",
      "    :raises: \n",
      "    \n",
      "        ValueError in case the chosen method is not supported\n",
      "    \n",
      "    \"\"\"\n",
      "    print 'Doubling using', method\n",
      "    if method == '*':\n",
      "        return x*2\n",
      "    elif method == '+':\n",
      "        return x+x\n",
      "    else:\n",
      "        raise ValueError('Method '+method+' not known!')"
     ],
     "language": "python",
     "metadata": {},
     "outputs": []
    },
    {
     "cell_type": "code",
     "collapsed": false,
     "input": [
      "double_improved(2)"
     ],
     "language": "python",
     "metadata": {},
     "outputs": []
    },
    {
     "cell_type": "code",
     "collapsed": false,
     "input": [
      "double_improved(3, method='+')"
     ],
     "language": "python",
     "metadata": {},
     "outputs": []
    },
    {
     "cell_type": "code",
     "collapsed": false,
     "input": [
      "double_improved('x')"
     ],
     "language": "python",
     "metadata": {},
     "outputs": []
    },
    {
     "cell_type": "code",
     "collapsed": false,
     "input": [
      "double_improved(10, '*')"
     ],
     "language": "python",
     "metadata": {},
     "outputs": []
    },
    {
     "cell_type": "code",
     "collapsed": false,
     "input": [
      "double_improved(1, '/')"
     ],
     "language": "python",
     "metadata": {},
     "outputs": []
    },
    {
     "cell_type": "code",
     "collapsed": false,
     "input": [
      "double({'a':1})"
     ],
     "language": "python",
     "metadata": {},
     "outputs": []
    },
    {
     "cell_type": "markdown",
     "metadata": {},
     "source": [
      "* functions are objects like all others: you can pass functions as arguments to other functions!"
     ]
    },
    {
     "cell_type": "code",
     "collapsed": false,
     "input": [
      "def multiply(x, y):\n",
      "    \"\"\"Mutiply x by y\"\"\"\n",
      "    return x*y\n",
      "\n",
      "def double_generic(x, method=multiply):\n",
      "    \"\"\"Return twice the input.\n",
      "       \n",
      "    :param x: the value to be doubled\n",
      "    \n",
      "    :param method: \n",
      "    \n",
      "        *optional* argument, the actual function\n",
      "        that is applied to `x`\n",
      "    \n",
      "    :return: twice the amount of x\n",
      "    \n",
      "    \"\"\"\n",
      "    print 'Doubling using', method\n",
      "    return method(x, 2)"
     ],
     "language": "python",
     "metadata": {},
     "outputs": []
    },
    {
     "cell_type": "code",
     "collapsed": false,
     "input": [
      "double_generic(10)"
     ],
     "language": "python",
     "metadata": {},
     "outputs": []
    },
    {
     "cell_type": "code",
     "collapsed": false,
     "input": [
      "def donothing(x, y):\n",
      "    \"\"\"This function is useless\"\"\"\n",
      "    return x"
     ],
     "language": "python",
     "metadata": {},
     "outputs": []
    },
    {
     "cell_type": "code",
     "collapsed": false,
     "input": [
      "double_generic(10, method=donothing)"
     ],
     "language": "python",
     "metadata": {},
     "outputs": []
    },
    {
     "cell_type": "markdown",
     "metadata": {},
     "source": [
      "* the string after definition is the help text of your function"
     ]
    },
    {
     "cell_type": "code",
     "collapsed": false,
     "input": [
      "help(double_generic)"
     ],
     "language": "python",
     "metadata": {},
     "outputs": []
    },
    {
     "cell_type": "code",
     "collapsed": false,
     "input": [
      "help(enumerate)"
     ],
     "language": "python",
     "metadata": {},
     "outputs": []
    },
    {
     "cell_type": "code",
     "collapsed": false,
     "input": [
      "double_generic?"
     ],
     "language": "python",
     "metadata": {},
     "outputs": []
    },
    {
     "cell_type": "markdown",
     "metadata": {},
     "source": [
      "* Methods are functions attached to objects"
     ]
    },
    {
     "cell_type": "code",
     "collapsed": false,
     "input": [
      "l = [3, 1, 2]\n",
      "l.sort()\n",
      "l"
     ],
     "language": "python",
     "metadata": {},
     "outputs": []
    },
    {
     "cell_type": "code",
     "collapsed": false,
     "input": [
      "\"hello world\".split()"
     ],
     "language": "python",
     "metadata": {},
     "outputs": []
    },
    {
     "cell_type": "code",
     "collapsed": false,
     "input": [
      "for num, word in enumerate(\"hello world. I am here\".split()):\n",
      "    print \"Word number\",num, ':', word "
     ],
     "language": "python",
     "metadata": {},
     "outputs": []
    },
    {
     "cell_type": "markdown",
     "metadata": {},
     "source": [
      "### Introspection ###\n",
      "* by hitting TAB you can inspect the methods of any object"
     ]
    },
    {
     "cell_type": "code",
     "collapsed": false,
     "input": [
      "s = \"hello world\" # hitting TAB will show:"
     ],
     "language": "python",
     "metadata": {},
     "outputs": []
    },
    {
     "cell_type": "markdown",
     "metadata": {},
     "source": [
      "    s.capitalize  s.format      s.isupper     s.rindex      s.strip\n",
      "    s.center      s.index       s.join        s.rjust       s.swapcase\n",
      "    s.count       s.isalnum     s.ljust       s.rpartition  s.title\n",
      "    s.decode      s.isalpha     s.lower       s.rsplit      s.translate\n",
      "    s.encode      s.isdigit     s.lstrip      s.rstrip      s.upper\n",
      "    s.endswith    s.islower     s.partition   s.split       s.zfill\n",
      "    s.expandtabs  s.isspace     s.replace     s.splitlines  \n",
      "    s.find        s.istitle     s.rfind       s.startswith  \n"
     ]
    },
    {
     "cell_type": "code",
     "collapsed": false,
     "input": [
      "help(s.replace)"
     ],
     "language": "python",
     "metadata": {},
     "outputs": []
    },
    {
     "cell_type": "code",
     "collapsed": false,
     "input": [
      "s = \"hello world\"\n",
      "s.replace(\"hello\", \"go away\")"
     ],
     "language": "python",
     "metadata": {},
     "outputs": []
    },
    {
     "cell_type": "markdown",
     "metadata": {},
     "source": [
      "-------\n",
      "\n",
      "## Scripts & Modules ##"
     ]
    },
    {
     "cell_type": "markdown",
     "metadata": {},
     "source": [
      "* Let us first write a *script*, that is a file with a sequence of instructions that are executed each time the script is called.\n",
      "  \n",
      "  The extension for Python files is .py. Write or copy-and-paste the following lines in a file called weather.py"
     ]
    },
    {
     "cell_type": "code",
     "collapsed": false,
     "input": [
      "things = 'day, weather, life'\n",
      "qualities = ['bad', 'really bad', 'terrible']\n",
      "for thing in things.split(','):\n",
      "    for quality in qualities:\n",
      "        print 'This', thing.strip(), 'is', quality\n",
      "\n",
      "message_in_the_bottle = \"Euthanasia!\"\n",
      "print \"You want:\", message_in_the_bottle"
     ],
     "language": "python",
     "metadata": {},
     "outputs": []
    },
    {
     "cell_type": "markdown",
     "metadata": {},
     "source": [
      "* You can execute the script interactively in ipython by running\n",
      "\n",
      "        %run weather.py\n",
      "  \n",
      "  The local variables are available\n",
      "\n"
     ]
    },
    {
     "cell_type": "code",
     "collapsed": false,
     "input": [
      "%run weather.py"
     ],
     "language": "python",
     "metadata": {},
     "outputs": []
    },
    {
     "cell_type": "code",
     "collapsed": false,
     "input": [
      "message_in_the_bottle"
     ],
     "language": "python",
     "metadata": {},
     "outputs": []
    },
    {
     "cell_type": "markdown",
     "metadata": {},
     "source": [
      "* ...or you can execute the script as a standalone program by running in a terminal\n",
      "\n",
      "        $python test.py\n"
     ]
    },
    {
     "cell_type": "markdown",
     "metadata": {},
     "source": [
      "* Create your own collection of functions: a module\n",
      "\n",
      "* Put the following functions in test.py"
     ]
    },
    {
     "cell_type": "code",
     "collapsed": false,
     "input": [
      "def scream(x):\n",
      "    return x.upper()\n",
      "\n",
      "def whisper(x):\n",
      "    return x.lower()"
     ],
     "language": "python",
     "metadata": {},
     "outputs": []
    },
    {
     "cell_type": "code",
     "collapsed": false,
     "input": [
      "import test\n",
      "print test.scream('Is there anybody here?')\n",
      "print test.whisper('I LIKE CAPS!')"
     ],
     "language": "python",
     "metadata": {},
     "outputs": []
    },
    {
     "cell_type": "markdown",
     "metadata": {},
     "source": [
      "------\n",
      "## I/O: Read & Write Files ##"
     ]
    },
    {
     "cell_type": "code",
     "collapsed": false,
     "input": [
      "fh = open('lorem.txt', 'r')"
     ],
     "language": "python",
     "metadata": {},
     "outputs": []
    },
    {
     "cell_type": "code",
     "collapsed": false,
     "input": [
      "for line in fh:\n",
      "    print line[:10], '...',\n",
      "    words = line.split()\n",
      "    print len(words)"
     ],
     "language": "python",
     "metadata": {},
     "outputs": []
    },
    {
     "cell_type": "markdown",
     "metadata": {},
     "source": [
      "* after iterating on the lines, we are located at the end of file:"
     ]
    },
    {
     "cell_type": "code",
     "collapsed": false,
     "input": [
      "for line in fh:\n",
      "    print \"Still more lines!\"\n",
      "else:\n",
      "    print \"No lines!\""
     ],
     "language": "python",
     "metadata": {},
     "outputs": []
    },
    {
     "cell_type": "code",
     "collapsed": false,
     "input": [
      "# rewind\n",
      "fh.seek(0)\n",
      "count = 0\n",
      "for line in enumerate(fh):\n",
      "    count += 1\n",
      "print count"
     ],
     "language": "python",
     "metadata": {},
     "outputs": []
    },
    {
     "cell_type": "code",
     "collapsed": false,
     "input": [
      "fh.close()"
     ],
     "language": "python",
     "metadata": {},
     "outputs": []
    },
    {
     "cell_type": "code",
     "collapsed": false,
     "input": [
      "fhw = open(\"tobewritten.txt\", 'w+')"
     ],
     "language": "python",
     "metadata": {},
     "outputs": []
    },
    {
     "cell_type": "code",
     "collapsed": false,
     "input": [
      "for i in range(10):\n",
      "    fhw.write(str(i)+\"\\n\")\n",
      "fhw.flush()"
     ],
     "language": "python",
     "metadata": {},
     "outputs": []
    },
    {
     "cell_type": "code",
     "collapsed": false,
     "input": [
      "fhw.seek(0)\n",
      "content = fhw.read()"
     ],
     "language": "python",
     "metadata": {},
     "outputs": []
    },
    {
     "cell_type": "code",
     "collapsed": false,
     "input": [
      "content"
     ],
     "language": "python",
     "metadata": {},
     "outputs": []
    },
    {
     "cell_type": "code",
     "collapsed": false,
     "input": [
      "content.splitlines()"
     ],
     "language": "python",
     "metadata": {},
     "outputs": []
    },
    {
     "cell_type": "code",
     "collapsed": false,
     "input": [
      "fhw.seek(0)\n",
      "content = fhw.read()\n",
      "lines = content.splitlines()\n",
      "int_list = [int(i) for i in lines]\n",
      "print int_list"
     ],
     "language": "python",
     "metadata": {},
     "outputs": []
    },
    {
     "cell_type": "code",
     "collapsed": false,
     "input": [
      "fhw.close()"
     ],
     "language": "python",
     "metadata": {},
     "outputs": []
    },
    {
     "cell_type": "markdown",
     "metadata": {},
     "source": [
      "------\n",
      "## Standard Library ##\n",
      "\n",
      "The Batteries included!\n",
      "\n",
      "* from a web server: ` SimpleHTTPServer` ... to converting between color systems: `colorsys`\n",
      "* from profiling: `cProfile` ... to secure hash and digest algorithms `hashlib`\n",
      "* from threads: `threading` to subprocesses: `subprocess`\n",
      "* Go and see yourself the list of modules in the Standard Library: http://docs.python.org/py-modindex.html"
     ]
    },
    {
     "cell_type": "markdown",
     "metadata": {},
     "source": [
      "[`pickle`](http://docs.python.org/library/pickle.html \"pickle\"): The one battery you will need for sure \u2013 Python object serialization. "
     ]
    },
    {
     "cell_type": "code",
     "collapsed": false,
     "input": [
      "import pickle"
     ],
     "language": "python",
     "metadata": {},
     "outputs": []
    },
    {
     "cell_type": "code",
     "collapsed": false,
     "input": [
      "l = [1, 2, 3]"
     ],
     "language": "python",
     "metadata": {},
     "outputs": []
    },
    {
     "cell_type": "code",
     "collapsed": false,
     "input": [
      "dumpfile = open('dump.pic', 'w')"
     ],
     "language": "python",
     "metadata": {},
     "outputs": []
    },
    {
     "cell_type": "code",
     "collapsed": false,
     "input": [
      "pickle.dump(l, dumpfile, protocol=-1)"
     ],
     "language": "python",
     "metadata": {},
     "outputs": []
    },
    {
     "cell_type": "code",
     "collapsed": false,
     "input": [
      "dumpfile.close()"
     ],
     "language": "python",
     "metadata": {},
     "outputs": []
    },
    {
     "cell_type": "code",
     "collapsed": false,
     "input": [
      "dumpfile = open('dump.pic', 'r')"
     ],
     "language": "python",
     "metadata": {},
     "outputs": []
    },
    {
     "cell_type": "code",
     "collapsed": false,
     "input": [
      "x = pickle.load(dumpfile)"
     ],
     "language": "python",
     "metadata": {},
     "outputs": []
    },
    {
     "cell_type": "code",
     "collapsed": false,
     "input": [
      "print x"
     ],
     "language": "python",
     "metadata": {},
     "outputs": []
    },
    {
     "cell_type": "heading",
     "level": 1,
     "metadata": {},
     "source": [
      "Debugging"
     ]
    },
    {
     "cell_type": "code",
     "collapsed": false,
     "input": [
      "def print_fourth_element(mylist):\n",
      "    print 'The forth element is:'\n",
      "    print mylist[3]\n",
      "\n",
      "\n",
      "def main():\n",
      "    a = 42\n",
      "    b = 'lorem ipsum'\n",
      "    c = 4+4j\n",
      "\n",
      "    mylist = [a,b,c]\n",
      "    print_fourth_element(mylist)\n",
      "\n",
      "main()"
     ],
     "language": "python",
     "metadata": {},
     "outputs": []
    },
    {
     "cell_type": "code",
     "collapsed": false,
     "input": [
      "%debug"
     ],
     "language": "python",
     "metadata": {},
     "outputs": []
    },
    {
     "cell_type": "code",
     "collapsed": false,
     "input": [
      "import pdb\n",
      "\n",
      "def lets_debug_this(idx):\n",
      "    pdb.set_trace()\n",
      "    print ('I am in iteration %d' % idx)\n",
      "\n",
      "for irun in range(4):\n",
      "    lets_debug_this(irun)"
     ],
     "language": "python",
     "metadata": {},
     "outputs": []
    },
    {
     "cell_type": "heading",
     "level": 3,
     "metadata": {},
     "source": [
      "Python is great for Object Oriented Programming\n",
      "(but out of the scope of this tutorial)"
     ]
    },
    {
     "cell_type": "code",
     "collapsed": false,
     "input": [
      "class MyClass(object):\n",
      "    def __init__(self, name='Custom Class'):\n",
      "        self.name = name\n",
      "    \n",
      "    def print_name(self):\n",
      "        print 'My name is ' + self.name\n",
      "        \n",
      "myobject = MyClass('Example Object')\n",
      "myobject.print_name()"
     ],
     "language": "python",
     "metadata": {},
     "outputs": []
    },
    {
     "cell_type": "markdown",
     "metadata": {},
     "source": []
    },
    {
     "cell_type": "markdown",
     "metadata": {},
     "source": [
      "## Tutorials ##\n",
      "\n",
      "* [Python scientific lecture notes](http://scipy-lectures.github.com \"Python scientific lecture notes\"): http://scipy-lectures.github.com\n",
      "* [Python documentation](http://docs.python.org \"Python documentation\"): http://docs.python.org\n",
      "* [Python tutorial](http://docs.python.org/tutorial \"Python tutorial\"): http://docs.python.org/tutorial\n",
      "* [Dive into Python](http://www.diveintopython.net \"Dive into Python\"): http://www.diveintopython.net\n",
      "* [Getting Started](http://www.python.org/about/gettingstarted/ \"Getting Started\"): http://www.python.org/about/gettingstarted/\n",
      "* [Video Tutorial (German)](http://showmedo.com/videotutorials/series?name=pythonHollandIntroToPythonSeries_german \"Video Tutorial (German)\"): http://showmedo.com/videotutorials/series?name=pythonHollandIntroToPythonSeries_german\n",
      "\n",
      "##Debugging##\n",
      "\n",
      "* [Using the python debugger (pdb)](http://pythonconquerstheuniverse.wordpress.com/2009/09/10/debugging-in-python/): http://pythonconquerstheuniverse.wordpress.com/2009/09/10/debugging-in-python/\n",
      "\n",
      "##Development Tools##\n",
      "\n",
      "* [PyCharm IDE](https://www.jetbrains.com/pycharm/): https://www.jetbrains.com/pycharm/\n",
      "* [Spyder IDE](https://code.google.com/p/spyderlib/): https://code.google.com/p/spyderlib/"
     ]
    },
    {
     "cell_type": "code",
     "collapsed": false,
     "input": [
      "import this"
     ],
     "language": "python",
     "metadata": {},
     "outputs": []
    },
    {
     "cell_type": "code",
     "collapsed": false,
     "input": [],
     "language": "python",
     "metadata": {},
     "outputs": []
    }
   ],
   "metadata": {}
  }
 ]
}