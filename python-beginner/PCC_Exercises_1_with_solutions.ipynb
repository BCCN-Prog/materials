{
 "metadata": {
  "name": "",
  "signature": "sha256:6c01a869c5e602ed51d5d64fd1b9382f1fb74af9b96e79b8d746d80a4d79b55c"
 },
 "nbformat": 3,
 "nbformat_minor": 0,
 "worksheets": [
  {
   "cells": [
    {
     "cell_type": "markdown",
     "metadata": {},
     "source": [
      "**Remember**: Pair-Programming \u2192 take care of your neighbor"
     ]
    },
    {
     "cell_type": "markdown",
     "metadata": {},
     "source": [
      "# Exercise 1 \u2014 Temperature Converter#\n",
      "\n",
      "* Write a generic temperature converter function (Kelvin, Fahrenheit, Celsius \u2192 Kelvin, Fahrenheit, Celsius)\n",
      "* Check it against the [one by google](http://www.google.com/search?q=temperature+conversion)"
     ]
    },
    {
     "cell_type": "code",
     "collapsed": false,
     "input": [
      "def K_to_C(t):\n",
      "    \"\"\"Convert temperature in Kelvin to Celsius\"\"\"\n",
      "    return t - 273.15\n",
      "\n",
      "def F_to_C(t):\n",
      "    \"\"\"Convert temperature in Fahrenheit to Celsius\"\"\"\n",
      "    return 5*(t-32.)/9.\n",
      "\n",
      "def C_to_K(t):\n",
      "    \"\"\"Convert temperature in Celsius to Kelvin\"\"\"\n",
      "    return t + 273.15\n",
      "\n",
      "def C_to_F(t):\n",
      "    \"\"\"Convert temperature in Celsius to Fahrenheit\"\"\"\n",
      "    return 32+(t*9/5.)\n",
      "\n",
      "def tconverter(temp, output_unit):\n",
      "    \"\"\"Temperature converter from Kelvin, Fahrenheit, Celsius to Kelvin, Fahrenheit, Celsius.\n",
      "       \n",
      "    Input temperature `temp` is a string with unit, e.g. '10C' or '-13F' or '235K'\n",
      "    Output unit `output_unit` is one of 'C', 'F', 'K'\n",
      "    \"\"\"\n",
      "    units = ('C', 'F', 'K')\n",
      "    conversion = {'KC': K_to_C,\n",
      "                  'FC': F_to_C,\n",
      "                  'CK': C_to_K,\n",
      "                  'CF': C_to_F}\n",
      "    \n",
      "    # check that the input temperature has the right format\n",
      "    if not isinstance(temp, str) or temp[-1] not in units:\n",
      "        raise TypeError('Input temperature '+str(temp)+' has the wrong format!')\n",
      "    # check that requested output unit is known\n",
      "    if output_unit not in units:\n",
      "        raise ValueError('Output unit '+str(output_unit)+' not known!')\n",
      "    # set input unit\n",
      "    input_unit = temp[-1]\n",
      "    # set input temperature\n",
      "    temp = float(temp[:-1])\n",
      "    # convert input temperature to Celsius\n",
      "    if input_unit != 'C':\n",
      "        temp = conversion[input_unit+'C'](temp)\n",
      "    # convert temperature in Celsius to output unit\n",
      "    if output_unit != 'C':\n",
      "        temp = conversion['C'+output_unit](temp)\n",
      "    return temp"
     ],
     "language": "python",
     "metadata": {},
     "outputs": [],
     "prompt_number": 1
    },
    {
     "cell_type": "code",
     "collapsed": false,
     "input": [
      "tconverter('10C', 'K')"
     ],
     "language": "python",
     "metadata": {},
     "outputs": [
      {
       "metadata": {},
       "output_type": "pyout",
       "prompt_number": 2,
       "text": [
        "283.15"
       ]
      }
     ],
     "prompt_number": 2
    },
    {
     "cell_type": "code",
     "collapsed": false,
     "input": [
      "tconverter('-123F', 'C')"
     ],
     "language": "python",
     "metadata": {},
     "outputs": [
      {
       "metadata": {},
       "output_type": "pyout",
       "prompt_number": 3,
       "text": [
        "-86.11111111111111"
       ]
      }
     ],
     "prompt_number": 3
    },
    {
     "cell_type": "code",
     "collapsed": false,
     "input": [
      "tconverter('148F', 'K')"
     ],
     "language": "python",
     "metadata": {},
     "outputs": [
      {
       "metadata": {},
       "output_type": "pyout",
       "prompt_number": 4,
       "text": [
        "337.59444444444443"
       ]
      }
     ],
     "prompt_number": 4
    },
    {
     "cell_type": "code",
     "collapsed": false,
     "input": [
      "tconverter(10, 'F')"
     ],
     "language": "python",
     "metadata": {},
     "outputs": [
      {
       "ename": "TypeError",
       "evalue": "Input temperature 10 has the wrong format!",
       "output_type": "pyerr",
       "traceback": [
        "\u001b[1;31m---------------------------------------------------------------------------\u001b[0m\n\u001b[1;31mTypeError\u001b[0m                                 Traceback (most recent call last)",
        "\u001b[1;32m<ipython-input-5-bd6667d7779a>\u001b[0m in \u001b[0;36m<module>\u001b[1;34m()\u001b[0m\n\u001b[1;32m----> 1\u001b[1;33m \u001b[0mtconverter\u001b[0m\u001b[1;33m(\u001b[0m\u001b[1;36m10\u001b[0m\u001b[1;33m,\u001b[0m \u001b[1;34m'F'\u001b[0m\u001b[1;33m)\u001b[0m\u001b[1;33m\u001b[0m\u001b[0m\n\u001b[0m",
        "\u001b[1;32m<ipython-input-1-112f7ba951ae>\u001b[0m in \u001b[0;36mtconverter\u001b[1;34m(temp, output_unit)\u001b[0m\n\u001b[0;32m     29\u001b[0m     \u001b[1;31m# check that the input temperature has the right format\u001b[0m\u001b[1;33m\u001b[0m\u001b[1;33m\u001b[0m\u001b[0m\n\u001b[0;32m     30\u001b[0m     \u001b[1;32mif\u001b[0m \u001b[1;32mnot\u001b[0m \u001b[0misinstance\u001b[0m\u001b[1;33m(\u001b[0m\u001b[0mtemp\u001b[0m\u001b[1;33m,\u001b[0m \u001b[0mstr\u001b[0m\u001b[1;33m)\u001b[0m \u001b[1;32mor\u001b[0m \u001b[0mtemp\u001b[0m\u001b[1;33m[\u001b[0m\u001b[1;33m-\u001b[0m\u001b[1;36m1\u001b[0m\u001b[1;33m]\u001b[0m \u001b[1;32mnot\u001b[0m \u001b[1;32min\u001b[0m \u001b[0munits\u001b[0m\u001b[1;33m:\u001b[0m\u001b[1;33m\u001b[0m\u001b[0m\n\u001b[1;32m---> 31\u001b[1;33m         \u001b[1;32mraise\u001b[0m \u001b[0mTypeError\u001b[0m\u001b[1;33m(\u001b[0m\u001b[1;34m'Input temperature '\u001b[0m\u001b[1;33m+\u001b[0m\u001b[0mstr\u001b[0m\u001b[1;33m(\u001b[0m\u001b[0mtemp\u001b[0m\u001b[1;33m)\u001b[0m\u001b[1;33m+\u001b[0m\u001b[1;34m' has the wrong format!'\u001b[0m\u001b[1;33m)\u001b[0m\u001b[1;33m\u001b[0m\u001b[0m\n\u001b[0m\u001b[0;32m     32\u001b[0m     \u001b[1;31m# check that requested output unit is known\u001b[0m\u001b[1;33m\u001b[0m\u001b[1;33m\u001b[0m\u001b[0m\n\u001b[0;32m     33\u001b[0m     \u001b[1;32mif\u001b[0m \u001b[0moutput_unit\u001b[0m \u001b[1;32mnot\u001b[0m \u001b[1;32min\u001b[0m \u001b[0munits\u001b[0m\u001b[1;33m:\u001b[0m\u001b[1;33m\u001b[0m\u001b[0m\n",
        "\u001b[1;31mTypeError\u001b[0m: Input temperature 10 has the wrong format!"
       ]
      }
     ],
     "prompt_number": 5
    },
    {
     "cell_type": "code",
     "collapsed": false,
     "input": [
      "tconverter('123', 'C')"
     ],
     "language": "python",
     "metadata": {},
     "outputs": [
      {
       "ename": "TypeError",
       "evalue": "Input temperature 123 has the wrong format!",
       "output_type": "pyerr",
       "traceback": [
        "\u001b[1;31m---------------------------------------------------------------------------\u001b[0m\n\u001b[1;31mTypeError\u001b[0m                                 Traceback (most recent call last)",
        "\u001b[1;32m<ipython-input-6-b906fec85b3b>\u001b[0m in \u001b[0;36m<module>\u001b[1;34m()\u001b[0m\n\u001b[1;32m----> 1\u001b[1;33m \u001b[0mtconverter\u001b[0m\u001b[1;33m(\u001b[0m\u001b[1;34m'123'\u001b[0m\u001b[1;33m,\u001b[0m \u001b[1;34m'C'\u001b[0m\u001b[1;33m)\u001b[0m\u001b[1;33m\u001b[0m\u001b[0m\n\u001b[0m",
        "\u001b[1;32m<ipython-input-1-112f7ba951ae>\u001b[0m in \u001b[0;36mtconverter\u001b[1;34m(temp, output_unit)\u001b[0m\n\u001b[0;32m     29\u001b[0m     \u001b[1;31m# check that the input temperature has the right format\u001b[0m\u001b[1;33m\u001b[0m\u001b[1;33m\u001b[0m\u001b[0m\n\u001b[0;32m     30\u001b[0m     \u001b[1;32mif\u001b[0m \u001b[1;32mnot\u001b[0m \u001b[0misinstance\u001b[0m\u001b[1;33m(\u001b[0m\u001b[0mtemp\u001b[0m\u001b[1;33m,\u001b[0m \u001b[0mstr\u001b[0m\u001b[1;33m)\u001b[0m \u001b[1;32mor\u001b[0m \u001b[0mtemp\u001b[0m\u001b[1;33m[\u001b[0m\u001b[1;33m-\u001b[0m\u001b[1;36m1\u001b[0m\u001b[1;33m]\u001b[0m \u001b[1;32mnot\u001b[0m \u001b[1;32min\u001b[0m \u001b[0munits\u001b[0m\u001b[1;33m:\u001b[0m\u001b[1;33m\u001b[0m\u001b[0m\n\u001b[1;32m---> 31\u001b[1;33m         \u001b[1;32mraise\u001b[0m \u001b[0mTypeError\u001b[0m\u001b[1;33m(\u001b[0m\u001b[1;34m'Input temperature '\u001b[0m\u001b[1;33m+\u001b[0m\u001b[0mstr\u001b[0m\u001b[1;33m(\u001b[0m\u001b[0mtemp\u001b[0m\u001b[1;33m)\u001b[0m\u001b[1;33m+\u001b[0m\u001b[1;34m' has the wrong format!'\u001b[0m\u001b[1;33m)\u001b[0m\u001b[1;33m\u001b[0m\u001b[0m\n\u001b[0m\u001b[0;32m     32\u001b[0m     \u001b[1;31m# check that requested output unit is known\u001b[0m\u001b[1;33m\u001b[0m\u001b[1;33m\u001b[0m\u001b[0m\n\u001b[0;32m     33\u001b[0m     \u001b[1;32mif\u001b[0m \u001b[0moutput_unit\u001b[0m \u001b[1;32mnot\u001b[0m \u001b[1;32min\u001b[0m \u001b[0munits\u001b[0m\u001b[1;33m:\u001b[0m\u001b[1;33m\u001b[0m\u001b[0m\n",
        "\u001b[1;31mTypeError\u001b[0m: Input temperature 123 has the wrong format!"
       ]
      }
     ],
     "prompt_number": 6
    },
    {
     "cell_type": "code",
     "collapsed": false,
     "input": [
      "tconverter('12C', 'L')"
     ],
     "language": "python",
     "metadata": {},
     "outputs": [
      {
       "ename": "ValueError",
       "evalue": "Output unit L not known!",
       "output_type": "pyerr",
       "traceback": [
        "\u001b[1;31m---------------------------------------------------------------------------\u001b[0m\n\u001b[1;31mValueError\u001b[0m                                Traceback (most recent call last)",
        "\u001b[1;32m<ipython-input-11-6083c892c24f>\u001b[0m in \u001b[0;36m<module>\u001b[1;34m()\u001b[0m\n\u001b[1;32m----> 1\u001b[1;33m \u001b[0mtconverter\u001b[0m\u001b[1;33m(\u001b[0m\u001b[1;34m'12C'\u001b[0m\u001b[1;33m,\u001b[0m \u001b[1;34m'L'\u001b[0m\u001b[1;33m)\u001b[0m\u001b[1;33m\u001b[0m\u001b[0m\n\u001b[0m",
        "\u001b[1;32m<ipython-input-1-112f7ba951ae>\u001b[0m in \u001b[0;36mtconverter\u001b[1;34m(temp, output_unit)\u001b[0m\n\u001b[0;32m     32\u001b[0m     \u001b[1;31m# check that requested output unit is known\u001b[0m\u001b[1;33m\u001b[0m\u001b[1;33m\u001b[0m\u001b[0m\n\u001b[0;32m     33\u001b[0m     \u001b[1;32mif\u001b[0m \u001b[0moutput_unit\u001b[0m \u001b[1;32mnot\u001b[0m \u001b[1;32min\u001b[0m \u001b[0munits\u001b[0m\u001b[1;33m:\u001b[0m\u001b[1;33m\u001b[0m\u001b[0m\n\u001b[1;32m---> 34\u001b[1;33m         \u001b[1;32mraise\u001b[0m \u001b[0mValueError\u001b[0m\u001b[1;33m(\u001b[0m\u001b[1;34m'Output unit '\u001b[0m\u001b[1;33m+\u001b[0m\u001b[0mstr\u001b[0m\u001b[1;33m(\u001b[0m\u001b[0moutput_unit\u001b[0m\u001b[1;33m)\u001b[0m\u001b[1;33m+\u001b[0m\u001b[1;34m' not known!'\u001b[0m\u001b[1;33m)\u001b[0m\u001b[1;33m\u001b[0m\u001b[0m\n\u001b[0m\u001b[0;32m     35\u001b[0m     \u001b[1;31m# set input unit\u001b[0m\u001b[1;33m\u001b[0m\u001b[1;33m\u001b[0m\u001b[0m\n\u001b[0;32m     36\u001b[0m     \u001b[0minput_unit\u001b[0m \u001b[1;33m=\u001b[0m \u001b[0mtemp\u001b[0m\u001b[1;33m[\u001b[0m\u001b[1;33m-\u001b[0m\u001b[1;36m1\u001b[0m\u001b[1;33m]\u001b[0m\u001b[1;33m\u001b[0m\u001b[0m\n",
        "\u001b[1;31mValueError\u001b[0m: Output unit L not known!"
       ]
      }
     ],
     "prompt_number": 11
    },
    {
     "cell_type": "markdown",
     "metadata": {},
     "source": [
      "# Exercise 2 \u2014 A Deception Experiment #\n",
      "* Look for a text online that would be funny to deceive (max 1000 words) [we use here the beginning of Alice in Wonderland as an example: http://sabian.org/alice_in_wonderland1.php ]\n",
      "* Copy it in a text file\n",
      "* Create a dictionary of all words with their occurrences [think about what to do with casing, commas, dots, columns, etc.]\n",
      "* Create a deception dictionary with at least 50 words [a deception dictionary maps a word to another word, e.g. `{'house': 'boat'}`]\n",
      "* Write one or several functions in order to accomplish the following tasks:\n",
      "    * read two text files, one with an arbitrary text to be deceived and one with a deception map, where every line contains two words [\"original word\" \"mapped word\"]\n",
      "    * create and save to a third text file a deceived version of the input text"
     ]
    },
    {
     "cell_type": "code",
     "collapsed": false,
     "input": [
      "# read the input text\n",
      "text = open(\"text.txt\", \"r\")"
     ],
     "language": "python",
     "metadata": {},
     "outputs": [],
     "prompt_number": 13
    },
    {
     "cell_type": "code",
     "collapsed": false,
     "input": [
      "# show first ten line of the file (this is not Python)\n",
      "!head -n 20 text.txt"
     ],
     "language": "python",
     "metadata": {},
     "outputs": [
      {
       "output_type": "stream",
       "stream": "stdout",
       "text": [
        "Alice was beginning to get very tired of sitting by her sister on the bank, and of having nothing to do: once or twice she had peeped into the book her sister was reading, but it had no pictures or conversations in it, `and what is the use of a book,' thought Alice `without pictures or conversation?'\r\n",
        "\r\n",
        "So she was considering in her own mind (as well as she could, for the hot day made her feel very sleepy and stupid), whether the pleasure of making a daisy-chain would be worth the trouble of getting up and picking the daisies, when suddenly a White Rabbit with pink eyes ran close by her.\r\n",
        "\r\n",
        "There was nothing so very remarkable in that; nor did Alice think it so very much out of the way to hear the Rabbit say to itself, `Oh dear! Oh dear! I shall be late!' (when she thought it over afterwards, it occurred to her that she ought to have wondered at this, but at the time it all seemed quite natural); but when the Rabbit actually took a watch out of its waistcoat-pocket, and looked at it, and then hurried on, Alice started to her feet, for it flashed across her mind that she had never before seen a rabbit with either a waistcoat-pocket, or a watch to take out of it, and burning with curiosity, she ran across the field after it, and fortunately was just in time to see it pop down a large rabbit-hole under the hedge. \r\n"
       ]
      }
     ],
     "prompt_number": 14
    },
    {
     "cell_type": "code",
     "collapsed": false,
     "input": [
      "def standardize_word(word):\n",
      "    \"\"\"Standardize word.\n",
      "\n",
      "    A standard word is lower cased and only contains alphabetic\n",
      "    characters. Return two strings: (std_word, illegal_chars)\n",
      "    \"\"\"\n",
      "    # string containing the illegal characters found in the word\n",
      "    illegal = ''\n",
      "    # make word lower-case\n",
      "    word = word.lower()\n",
      "    if not word.isalpha():\n",
      "        # there are non alphabetic chars in the word\n",
      "        for char in word:\n",
      "            # collect non alphabetic chars\n",
      "            if not char.isalpha():\n",
      "                illegal += char\n",
      "        # remove non alphabetic chars from the word\n",
      "        word = word.translate(None, illegal)\n",
      "    return word, illegal\n",
      " "
     ],
     "language": "python",
     "metadata": {},
     "outputs": [],
     "prompt_number": 15
    },
    {
     "cell_type": "code",
     "collapsed": false,
     "input": [
      "# initialize the word frequency map\n",
      "wfreq = {}\n",
      "# set of illegal (i.e. non alphabetic)characters found in the text\n",
      "# start with an empty set\n",
      "illegal = set()\n",
      "# word counter\n",
      "word_count = 0\n",
      "# iterate over the lines in the input file\n",
      "for line in text:\n",
      "    # split the line into words \n",
      "    # at this point, words may still contain illegal characters and have mixed case\n",
      "    words = line.split()\n",
      "    # iterate over words in the current line\n",
      "    for word in words:\n",
      "        # standardize words and get back the illegal characters\n",
      "        stdword, illegal_chars = standardize_word(word)\n",
      "        # update set of illegal chars\n",
      "        illegal.update(illegal_chars)\n",
      "        # we have got a new word\n",
      "        word_count += 1\n",
      "        # if the word is already in the dictionary update the counter,\n",
      "        # otherwise initialize the counter\n",
      "        wfreq[stdword] = wfreq.setdefault(stdword, 0) + 1\n",
      "        #if stdword in wfreq:\n",
      "        #    wfreq[stdword] += 1\n",
      "        #else:\n",
      "        #    # the word was not in the dictionary already: initialize the counter\n",
      "        #    wfreq[stdword] = 1"
     ],
     "language": "python",
     "metadata": {},
     "outputs": [],
     "prompt_number": 16
    },
    {
     "cell_type": "code",
     "collapsed": false,
     "input": [
      "print \"Total number of words in the text:\", word_count"
     ],
     "language": "python",
     "metadata": {},
     "outputs": [
      {
       "output_type": "stream",
       "stream": "stdout",
       "text": [
        "Total number of words in the text: 253\n"
       ]
      }
     ],
     "prompt_number": 17
    },
    {
     "cell_type": "code",
     "collapsed": false,
     "input": [
      "print \"Number of different words:\", len(wfreq)"
     ],
     "language": "python",
     "metadata": {},
     "outputs": [
      {
       "output_type": "stream",
       "stream": "stdout",
       "text": [
        "Number of different words: 136\n"
       ]
      }
     ],
     "prompt_number": 18
    },
    {
     "cell_type": "code",
     "collapsed": false,
     "input": [
      "print \"Illegal characters in text:\", list(illegal)"
     ],
     "language": "python",
     "metadata": {},
     "outputs": [
      {
       "output_type": "stream",
       "stream": "stdout",
       "text": [
        "Illegal characters in text: ['!', '`', \"'\", ')', '(', '-', ',', '.', ';', ':', '?']\n"
       ]
      }
     ],
     "prompt_number": 19
    },
    {
     "cell_type": "code",
     "collapsed": false,
     "input": [
      "# we now want to see what words are occurring more often:\n",
      "# Sort the dictionary by value (this a so-called Python idiom)\n",
      "import operator\n",
      "wfreq_sorted = sorted(wfreq.items(), key=operator.itemgetter(1), reverse=True)"
     ],
     "language": "python",
     "metadata": {},
     "outputs": [],
     "prompt_number": 20
    },
    {
     "cell_type": "code",
     "collapsed": false,
     "input": [
      "# print the 50 more frequent words\n",
      "print wfreq_sorted[:50]"
     ],
     "language": "python",
     "metadata": {},
     "outputs": [
      {
       "output_type": "stream",
       "stream": "stdout",
       "text": [
        "[('the', 13), ('it', 11), ('to', 9), ('of', 8), ('her', 8), ('and', 8), ('a', 8), ('she', 7), ('was', 5), ('very', 4), ('alice', 4), ('or', 4), ('rabbit', 4), ('in', 4), ('had', 3), ('out', 3), ('that', 3), ('but', 3), ('with', 3), ('at', 3), ('when', 3), ('so', 3), ('watch', 2), ('waistcoatpocket', 2), ('dear', 2), ('for', 2), ('pictures', 2), ('across', 2), ('be', 2), ('by', 2), ('on', 2), ('sister', 2), ('oh', 2), ('ran', 2), ('mind', 2), ('as', 2), ('book', 2), ('nothing', 2), ('thought', 2), ('time', 2), ('all', 1), ('remarkable', 1), ('hedge', 1), ('over', 1), ('sleepy', 1), ('its', 1), ('seemed', 1), ('just', 1), ('actually', 1), ('late', 1)]\n"
       ]
      }
     ],
     "prompt_number": 21
    },
    {
     "cell_type": "code",
     "collapsed": false,
     "input": [
      "def load_deception_map(filename, on_error=\"fail\"):\n",
      "    \"\"\"Load a deception map from file.\n",
      "    \n",
      "    Expected format is two words per line. If illegal characters\n",
      "    are detected, the behaviour depends on on_error:\n",
      "    if on_error is \"fail\" throw a ValueError, if on_error is \"ignore\"\n",
      "    ignore illegal chars.\n",
      "    \"\"\"\n",
      "    # initialize the deception map\n",
      "    dmap = {}\n",
      "    # open deception map file\n",
      "    fh = open(filename, 'r')\n",
      "    # iterate over lines in the file\n",
      "    for count, line in enumerate(fh):\n",
      "        # get the words on the current line\n",
      "        words = line.split()\n",
      "        if len(words) == 0:\n",
      "            # this is an empty line, we can skip to the next line\n",
      "            continue\n",
      "        elif len(words) != 2:\n",
      "            # we are expecting exactly two words per line\n",
      "            # this must be an invalid line: throw an error!\n",
      "            raise ValueError('Too many/few words on line '+str(count))\n",
      "        # Standardize words\n",
      "        key, illegal1 = standardize_word(words[0])\n",
      "        value, illegal2 = standardize_word(words[1])\n",
      "        if on_error == 'fail' and len(illegal1+illegal2) != 0:\n",
      "            # we are asked to fail if there are illegal characters in the current line\n",
      "            raise ValueError('Illegal chars on line '+str(count)+':'+illegal1+illegal2)\n",
      "        # add the word to the deception map\n",
      "        dmap[key] = value\n",
      "        # no checking is done to ensure that the word is not already in the map,\n",
      "        # i.e. the map may be inconsistent or redundant or non-invertible\n",
      "    return dmap"
     ],
     "language": "python",
     "metadata": {},
     "outputs": [],
     "prompt_number": 22
    },
    {
     "cell_type": "code",
     "collapsed": false,
     "input": [
      "# load deception map from file\n",
      "deception = load_deception_map('deception.dict')"
     ],
     "language": "python",
     "metadata": {},
     "outputs": [],
     "prompt_number": 24
    },
    {
     "cell_type": "code",
     "collapsed": false,
     "input": [
      "deception"
     ],
     "language": "python",
     "metadata": {},
     "outputs": [
      {
       "metadata": {},
       "output_type": "pyout",
       "prompt_number": 25,
       "text": [
        "{'alice': 'john',\n",
        " 'be': 'have',\n",
        " 'her': 'his',\n",
        " 'i': 'you',\n",
        " 'is': 'was',\n",
        " 'rabbit': 'tiger',\n",
        " 'say': 'read',\n",
        " 'she': 'he',\n",
        " 'think': 'wait',\n",
        " 'this': 'that',\n",
        " 'well': 'bad',\n",
        " 'you': 'i'}"
       ]
      }
     ],
     "prompt_number": 25
    },
    {
     "cell_type": "code",
     "collapsed": false,
     "input": [
      "def deceive_text(filename, deception_map):\n",
      "    \"\"\"Return a version of text in filename deceived by deception_map\"\"\"\n",
      "    text = open(filename, 'r')\n",
      "    # initiliaze a list of output lines\n",
      "    output = []\n",
      "    # iterate over the lines of the input text\n",
      "    for line in text:\n",
      "        # get the words on the current line\n",
      "        words = line.split()\n",
      "        # initiliaze the output line\n",
      "        newline = []\n",
      "        # iterate over the words on the current line\n",
      "        for word in words:\n",
      "            # standardize word\n",
      "            stdword, illegal_chars = standardize_word(word)\n",
      "            if stdword in deception_map:\n",
      "                # this word needs to be replaced, but we want to\n",
      "                # maintain the illegal chars (case is lost in translation)\n",
      "                # 1. make the word lower case\n",
      "                newword = word.lower()\n",
      "                # 2. replace within the original word+illegal_chars\n",
      "                newword = newword.replace(stdword, deception_map[stdword])\n",
      "                # 3. append the resulting word+illegal_chars in the current output line list of words\n",
      "                newline.append(newword)\n",
      "            else:\n",
      "                # this word does not need to be replaced, just put the word as-is in the output line list\n",
      "                newline.append(word)\n",
      "        # the output line we want to have consists of all words joined with a white space\n",
      "        newline = ' '.join(newline)\n",
      "        # append the current output line to the list of output lines  \n",
      "        output.append(newline)\n",
      "    \n",
      "    # the output text consists of all output lines joined with newline characters\n",
      "    output = '\\n'.join(output)\n",
      "    return output"
     ],
     "language": "python",
     "metadata": {},
     "outputs": [],
     "prompt_number": 26
    },
    {
     "cell_type": "code",
     "collapsed": false,
     "input": [
      "# get the deceived version of our text\n",
      "newalice = deceive_text('text.txt', deception)"
     ],
     "language": "python",
     "metadata": {},
     "outputs": [],
     "prompt_number": 27
    },
    {
     "cell_type": "code",
     "collapsed": false,
     "input": [
      "# show the first 20 lines\n",
      "print '\\n'.join(newalice.split('\\n')[:20])"
     ],
     "language": "python",
     "metadata": {},
     "outputs": [
      {
       "output_type": "stream",
       "stream": "stdout",
       "text": [
        "john was beginning to get very tired of sitting by his sister on the bank, and of having nothing to do: once or twice he had peeped into the book his sister was reading, but it had no pictures or conversations in it, `and what was the use of a book,' thought john `without pictures or conversation?'\n",
        "\n",
        "So he was considering in his own mind (as bad as he could, for the hot day made his feel very sleepy and stupid), whether the pleasure of making a daisy-chain would have worth the trouble of getting up and picking the daisies, when suddenly a White tiger with pink eyes ran close by his.\n",
        "\n",
        "There was nothing so very remarkable in that; nor did john wait it so very much out of the way to hear the tiger read to itself, `Oh dear! Oh dear! you shall have late!' (when he thought it over afterwards, it occurred to his that he ought to have wondered at that, but at the time it all seemed quite natural); but when the tiger actually took a watch out of its waistcoat-pocket, and looked at it, and then hurried on, john started to his feet, for it flashed across his mind that he had never before seen a tiger with either a waistcoat-pocket, or a watch to take out of it, and burning with curiosity, he ran across the field after it, and fortunately was just in time to see it pop down a large rabbit-hole under the hedge.\n"
       ]
      }
     ],
     "prompt_number": 28
    },
    {
     "cell_type": "code",
     "collapsed": false,
     "input": [
      "# write out the modified text\n",
      "newtext = open('newtext.txt', 'w')\n",
      "newtext.write(newalice)\n",
      "newtext.close()"
     ],
     "language": "python",
     "metadata": {},
     "outputs": [],
     "prompt_number": 29
    },
    {
     "cell_type": "code",
     "collapsed": false,
     "input": [],
     "language": "python",
     "metadata": {},
     "outputs": []
    }
   ],
   "metadata": {}
  }
 ]
}