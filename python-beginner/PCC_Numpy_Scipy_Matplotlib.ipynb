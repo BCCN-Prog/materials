{
 "metadata": {
  "name": "",
  "signature": "sha256:ea493de485c1dbe6a658c2ce5dcf5ea0944e79b9ecf837042bb1b7934225d568"
 },
 "nbformat": 3,
 "nbformat_minor": 0,
 "worksheets": [
  {
   "cells": [
    {
     "cell_type": "heading",
     "level": 1,
     "metadata": {},
     "source": [
      "NumPy: creating and manipulating numerical data"
     ]
    },
    {
     "cell_type": "markdown",
     "metadata": {},
     "source": [
      "(See Ch. 3, **\"Python Scientific lecture notes\"**, Release 2012.3 (EuroScipy 2012) \n",
      "\n",
      "by the EuroScipy tutorial team\n",
      "\n",
      "Editors: *Valentin Haenel, Emmanuelle Gouillart, Ga\u00ebl Varoquaux*\n",
      "\n",
      "http://scipy-lectures.github.com) "
     ]
    },
    {
     "cell_type": "heading",
     "level": 2,
     "metadata": {},
     "source": [
      "The numpy array object"
     ]
    },
    {
     "cell_type": "markdown",
     "metadata": {},
     "source": [
      "**Python has built-in:**\n",
      "\n",
      "* *containers*: lists (costless insertion and append), dictionaries (fast lookup)\n",
      "* *high-level number objects*: integers, floating point\n",
      "\n",
      "**Numpy is:**\n",
      "\n",
      "* extension package to Python for *multi-dimensional arrays*\n",
      "* closer to hardware (*efficiency*)\n",
      "* designed for scientific computation (*convenience*)"
     ]
    },
    {
     "cell_type": "code",
     "collapsed": false,
     "input": [
      "import numpy as np\n",
      "a = np.array([0, 1, 2, 3, 4])\n",
      "a\n",
      "a = np.arange(5)\n",
      "a"
     ],
     "language": "python",
     "metadata": {},
     "outputs": [
      {
       "metadata": {},
       "output_type": "pyout",
       "prompt_number": 5,
       "text": [
        "array([0, 1, 2, 3, 4])"
       ]
      }
     ],
     "prompt_number": 5
    },
    {
     "cell_type": "markdown",
     "metadata": {},
     "source": [
      "**For example...**\n",
      "\n",
      "*...an array containing:*\n",
      "\n",
      "* values of an experiment/simulation at discrete time steps\n",
      "* signal recorded by a measurement device, e.g. sound wave\n",
      "* pixels of an image, grey-level or colour\n",
      "* 3-D data measured at different X-Y-Z positions, e.g. MRI scan\n",
      "* ...\n",
      "\n",
      "**Why is it useful?** \n",
      "\n",
      "*efficient numerical operations*"
     ]
    },
    {
     "cell_type": "code",
     "collapsed": false,
     "input": [
      "l = range(1000)\n",
      "l**2\n",
      "%timeit [i**2 for i in l]"
     ],
     "language": "python",
     "metadata": {},
     "outputs": [
      {
       "ename": "TypeError",
       "evalue": "unsupported operand type(s) for ** or pow(): 'list' and 'int'",
       "output_type": "pyerr",
       "traceback": [
        "\u001b[1;31m---------------------------------------------------------------------------\u001b[0m\n\u001b[1;31mTypeError\u001b[0m                                 Traceback (most recent call last)",
        "\u001b[1;32m<ipython-input-6-7aed15c9ab3b>\u001b[0m in \u001b[0;36m<module>\u001b[1;34m()\u001b[0m\n\u001b[0;32m      1\u001b[0m \u001b[0ml\u001b[0m \u001b[1;33m=\u001b[0m \u001b[0mrange\u001b[0m\u001b[1;33m(\u001b[0m\u001b[1;36m1000\u001b[0m\u001b[1;33m)\u001b[0m\u001b[1;33m\u001b[0m\u001b[0m\n\u001b[1;32m----> 2\u001b[1;33m \u001b[0ml\u001b[0m\u001b[1;33m**\u001b[0m\u001b[1;36m2\u001b[0m\u001b[1;33m\u001b[0m\u001b[0m\n\u001b[0m\u001b[0;32m      3\u001b[0m \u001b[0mget_ipython\u001b[0m\u001b[1;33m(\u001b[0m\u001b[1;33m)\u001b[0m\u001b[1;33m.\u001b[0m\u001b[0mmagic\u001b[0m\u001b[1;33m(\u001b[0m\u001b[1;34mu'timeit [i**2 for i in l]'\u001b[0m\u001b[1;33m)\u001b[0m\u001b[1;33m\u001b[0m\u001b[0m\n",
        "\u001b[1;31mTypeError\u001b[0m: unsupported operand type(s) for ** or pow(): 'list' and 'int'"
       ]
      }
     ],
     "prompt_number": 6
    },
    {
     "cell_type": "code",
     "collapsed": false,
     "input": [
      "a = np.arange(10)\n",
      "%timeit a**2\n",
      "a**2"
     ],
     "language": "python",
     "metadata": {},
     "outputs": [
      {
       "output_type": "stream",
       "stream": "stdout",
       "text": [
        "1000000 loops, best of 3: 472 ns per loop\n"
       ]
      },
      {
       "metadata": {},
       "output_type": "pyout",
       "prompt_number": 8,
       "text": [
        "array([ 0,  1,  4,  9, 16, 25, 36, 49, 64, 81])"
       ]
      }
     ],
     "prompt_number": 8
    },
    {
     "cell_type": "markdown",
     "metadata": {},
     "source": [
      "**Reference documentation:**\n",
      "\n",
      "* On the web: http://docs.scipy.org/\n",
      "* Interactive help:"
     ]
    },
    {
     "cell_type": "code",
     "collapsed": false,
     "input": [
      "help(np.array)"
     ],
     "language": "python",
     "metadata": {},
     "outputs": [
      {
       "output_type": "stream",
       "stream": "stdout",
       "text": [
        "Help on built-in function array in module numpy.core.multiarray:\n",
        "\n",
        "array(...)\n",
        "    array(object, dtype=None, copy=True, order=None, subok=False, ndmin=0)\n",
        "    \n",
        "    Create an array.\n",
        "    \n",
        "    Parameters\n",
        "    ----------\n",
        "    object : array_like\n",
        "        An array, any object exposing the array interface, an\n",
        "        object whose __array__ method returns an array, or any\n",
        "        (nested) sequence.\n",
        "    dtype : data-type, optional\n",
        "        The desired data-type for the array.  If not given, then\n",
        "        the type will be determined as the minimum type required\n",
        "        to hold the objects in the sequence.  This argument can only\n",
        "        be used to 'upcast' the array.  For downcasting, use the\n",
        "        .astype(t) method.\n",
        "    copy : bool, optional\n",
        "        If true (default), then the object is copied.  Otherwise, a copy\n",
        "        will only be made if __array__ returns a copy, if obj is a\n",
        "        nested sequence, or if a copy is needed to satisfy any of the other\n",
        "        requirements (`dtype`, `order`, etc.).\n",
        "    order : {'C', 'F', 'A'}, optional\n",
        "        Specify the order of the array.  If order is 'C' (default), then the\n",
        "        array will be in C-contiguous order (last-index varies the\n",
        "        fastest).  If order is 'F', then the returned array\n",
        "        will be in Fortran-contiguous order (first-index varies the\n",
        "        fastest).  If order is 'A', then the returned array may\n",
        "        be in any order (either C-, Fortran-contiguous, or even\n",
        "        discontiguous).\n",
        "    subok : bool, optional\n",
        "        If True, then sub-classes will be passed-through, otherwise\n",
        "        the returned array will be forced to be a base-class array (default).\n",
        "    ndmin : int, optional\n",
        "        Specifies the minimum number of dimensions that the resulting\n",
        "        array should have.  Ones will be pre-pended to the shape as\n",
        "        needed to meet this requirement.\n",
        "    \n",
        "    Returns\n",
        "    -------\n",
        "    out : ndarray\n",
        "        An array object satisfying the specified requirements.\n",
        "    \n",
        "    See Also\n",
        "    --------\n",
        "    empty, empty_like, zeros, zeros_like, ones, ones_like, fill\n",
        "    \n",
        "    Examples\n",
        "    --------\n",
        "    >>> np.array([1, 2, 3])\n",
        "    array([1, 2, 3])\n",
        "    \n",
        "    Upcasting:\n",
        "    \n",
        "    >>> np.array([1, 2, 3.0])\n",
        "    array([ 1.,  2.,  3.])\n",
        "    \n",
        "    More than one dimension:\n",
        "    \n",
        "    >>> np.array([[1, 2], [3, 4]])\n",
        "    array([[1, 2],\n",
        "           [3, 4]])\n",
        "    \n",
        "    Minimum dimensions 2:\n",
        "    \n",
        "    >>> np.array([1, 2, 3], ndmin=2)\n",
        "    array([[1, 2, 3]])\n",
        "    \n",
        "    Type provided:\n",
        "    \n",
        "    >>> np.array([1, 2, 3], dtype=complex)\n",
        "    array([ 1.+0.j,  2.+0.j,  3.+0.j])\n",
        "    \n",
        "    Data-type consisting of more than one element:\n",
        "    \n",
        "    >>> x = np.array([(1,2),(3,4)],dtype=[('a','<i4'),('b','<i4')])\n",
        "    >>> x['a']\n",
        "    array([1, 3])\n",
        "    \n",
        "    Creating an array from sub-classes:\n",
        "    \n",
        "    >>> np.array(np.mat('1 2; 3 4'))\n",
        "    array([[1, 2],\n",
        "           [3, 4]])\n",
        "    \n",
        "    >>> np.array(np.mat('1 2; 3 4'), subok=True)\n",
        "    matrix([[1, 2],\n",
        "            [3, 4]])\n",
        "\n"
       ]
      }
     ],
     "prompt_number": 9
    },
    {
     "cell_type": "code",
     "collapsed": false,
     "input": [
      "np.array?"
     ],
     "language": "python",
     "metadata": {},
     "outputs": [],
     "prompt_number": 10
    },
    {
     "cell_type": "raw",
     "metadata": {},
     "source": [
      "Type:       builtin_function_or_method\n",
      "String Form:<built-in function array>\n",
      "Docstring:\n",
      "array(object, dtype=None, copy=True, order=None, subok=False, ndmin=0)\n",
      "\n",
      "Create an array.\n",
      "\n",
      "Parameters\n",
      "----------\n",
      "object : array_like\n",
      "    An array, any object exposing the array interface, an\n",
      "    ...\n",
      "dtype : data-type, optional\n",
      "    The desired data-type for the array.  If not given, then\n",
      "    ...\n",
      "copy : bool, optional\n",
      "    If true (default), then the object is copied.  Otherwise, a copy\n",
      "    ...\n",
      "    <snip>"
     ]
    },
    {
     "cell_type": "markdown",
     "metadata": {},
     "source": [
      "* Looking for something:"
     ]
    },
    {
     "cell_type": "code",
     "collapsed": false,
     "input": [
      "np.lookfor('create array')"
     ],
     "language": "python",
     "metadata": {},
     "outputs": [
      {
       "output_type": "stream",
       "stream": "stdout",
       "text": [
        "Search results for 'create array'\n",
        "---------------------------------\n",
        "numpy.array\n",
        "    Create an array.\n",
        "numpy.memmap\n",
        "    Create a memory-map to an array stored in a *binary* file on disk.\n",
        "numpy.diagflat\n",
        "    Create a two-dimensional array with the flattened input as a diagonal.\n",
        "numpy.fromiter\n",
        "    Create a new 1-dimensional array from an iterable object.\n",
        "numpy.partition\n",
        "    Return a partitioned copy of an array.\n",
        "numpy.ma.diagflat\n",
        "    Create a two-dimensional array with the flattened input as a diagonal.\n",
        "numpy.ctypeslib.as_array\n",
        "    Create a numpy array from a ctypes array or a ctypes POINTER.\n",
        "numpy.ma.make_mask\n",
        "    Create a boolean mask from an array.\n",
        "numpy.ctypeslib.as_ctypes\n",
        "    Create and return a ctypes object from a numpy array.  Actually\n",
        "numpy.ma.mrecords.fromarrays\n",
        "    Creates a mrecarray from a (flat) list of masked arrays.\n",
        "numpy.lib.format.open_memmap\n",
        "    Open a .npy file as a memory-mapped array.\n",
        "numpy.ma.MaskedArray.__new__\n",
        "    Create a new masked array from scratch.\n",
        "numpy.lib.arrayterator.Arrayterator\n",
        "    Buffered iterator for big arrays.\n",
        "numpy.ma.mrecords.fromtextfile\n",
        "    Creates a mrecarray from data stored in the file `filename`.\n",
        "numpy.asarray\n",
        "    Convert the input to an array.\n",
        "numpy.ndarray\n",
        "    ndarray(shape, dtype=float, buffer=None, offset=0,\n",
        "numpy.recarray\n",
        "    Construct an ndarray that allows field access using attributes.\n",
        "numpy.chararray\n",
        "    chararray(shape, itemsize=1, unicode=False, buffer=None, offset=0,\n",
        "numpy.pad\n",
        "    Pads an array.\n",
        "numpy.sum\n",
        "    Sum of array elements over a given axis.\n",
        "numpy.asanyarray\n",
        "    Convert the input to an ndarray, but pass ndarray subclasses through.\n",
        "numpy.copy\n",
        "    Return an array copy of the given object.\n",
        "numpy.diag\n",
        "    Extract a diagonal or construct a diagonal array.\n",
        "numpy.load\n",
        "    Load arrays or pickled objects from ``.npy``, ``.npz`` or pickled files.\n",
        "numpy.sort\n",
        "    Return a sorted copy of an array.\n",
        "numpy.array_equiv\n",
        "    Returns True if input arrays are shape consistent and all elements equal.\n",
        "numpy.dtype\n",
        "    Create a data type object.\n",
        "numpy.choose\n",
        "    Construct an array from an index array and a set of arrays to choose from.\n",
        "numpy.nditer\n",
        "    Efficient multi-dimensional iterator object to iterate over arrays.\n",
        "numpy.swapaxes\n",
        "    Interchange two axes of an array.\n",
        "numpy.full_like\n",
        "    Return a full array with the same shape and type as a given array.\n",
        "numpy.ones_like\n",
        "    Return an array of ones with the same shape and type as a given array.\n",
        "numpy.empty_like\n",
        "    Return a new array with the same shape and type as a given array.\n",
        "numpy.zeros_like\n",
        "    Return an array of zeros with the same shape and type as a given array.\n",
        "numpy.asarray_chkfinite\n",
        "    Convert the input to an array, checking for NaNs or Infs.\n",
        "numpy.diag_indices\n",
        "    Return the indices to access the main diagonal of an array.\n",
        "numpy.ma.choose\n",
        "    Use an index array to construct a new array from a set of choices.\n",
        "numpy.chararray.tolist\n",
        "    a.tolist()\n",
        "numpy.matlib.rand\n",
        "    Return a matrix of random values with given shape.\n",
        "numpy.savez_compressed\n",
        "    Save several arrays into a single file in compressed ``.npz`` format.\n",
        "numpy.ma.empty_like\n",
        "    Return a new array with the same shape and type as a given array.\n",
        "numpy.ma.make_mask_none\n",
        "    Return a boolean mask of the given shape, filled with False.\n",
        "numpy.ma.mrecords.fromrecords\n",
        "    Creates a MaskedRecords from a list of records.\n",
        "numpy.around\n",
        "    Evenly round to the given number of decimals.\n",
        "numpy.source\n",
        "    Print or write to a file the source code for a Numpy object.\n",
        "numpy.diagonal\n",
        "    Return specified diagonals.\n",
        "numpy.histogram2d\n",
        "    Compute the bi-dimensional histogram of two data samples.\n",
        "numpy.fft.ifft\n",
        "    Compute the one-dimensional inverse discrete Fourier Transform.\n",
        "numpy.fft.ifftn\n",
        "    Compute the N-dimensional inverse discrete Fourier Transform.\n",
        "numpy.busdaycalendar\n",
        "    A business day calendar object that efficiently stores information"
       ]
      }
     ],
     "prompt_number": 11
    },
    {
     "cell_type": "code",
     "collapsed": false,
     "input": [
      "np.con*?"
     ],
     "language": "python",
     "metadata": {},
     "outputs": [],
     "prompt_number": 12
    },
    {
     "cell_type": "raw",
     "metadata": {},
     "source": [
      "np.concatenate\n",
      "np.conj\n",
      "np.conjugate\n",
      "np.convolve"
     ]
    },
    {
     "cell_type": "heading",
     "level": 3,
     "metadata": {},
     "source": [
      "Creating arrays"
     ]
    },
    {
     "cell_type": "code",
     "collapsed": false,
     "input": [
      "a = np.array([0, 1, 2, 3])\n",
      "a"
     ],
     "language": "python",
     "metadata": {},
     "outputs": [
      {
       "metadata": {},
       "output_type": "pyout",
       "prompt_number": 13,
       "text": [
        "array([0, 1, 2, 3])"
       ]
      }
     ],
     "prompt_number": 13
    },
    {
     "cell_type": "code",
     "collapsed": false,
     "input": [
      "a.ndim"
     ],
     "language": "python",
     "metadata": {},
     "outputs": [
      {
       "metadata": {},
       "output_type": "pyout",
       "prompt_number": 15,
       "text": [
        "1"
       ]
      }
     ],
     "prompt_number": 15
    },
    {
     "cell_type": "code",
     "collapsed": false,
     "input": [
      "a.shape"
     ],
     "language": "python",
     "metadata": {},
     "outputs": [
      {
       "metadata": {},
       "output_type": "pyout",
       "prompt_number": 16,
       "text": [
        "(4,)"
       ]
      }
     ],
     "prompt_number": 16
    },
    {
     "cell_type": "code",
     "collapsed": false,
     "input": [
      "len(a)"
     ],
     "language": "python",
     "metadata": {},
     "outputs": []
    },
    {
     "cell_type": "code",
     "collapsed": false,
     "input": [
      "b = np.array([(0, 1, 2), [3, 4, 5]])\n",
      "b"
     ],
     "language": "python",
     "metadata": {},
     "outputs": [
      {
       "metadata": {},
       "output_type": "pyout",
       "prompt_number": 23,
       "text": [
        "array([[0, 1, 2],\n",
        "       [3, 4, 5]])"
       ]
      }
     ],
     "prompt_number": 23
    },
    {
     "cell_type": "code",
     "collapsed": false,
     "input": [
      "b.ndim"
     ],
     "language": "python",
     "metadata": {},
     "outputs": [
      {
       "metadata": {},
       "output_type": "pyout",
       "prompt_number": 25,
       "text": [
        "2"
       ]
      }
     ],
     "prompt_number": 25
    },
    {
     "cell_type": "code",
     "collapsed": false,
     "input": [
      "len(b) # returns the size of the first dimension"
     ],
     "language": "python",
     "metadata": {},
     "outputs": [
      {
       "metadata": {},
       "output_type": "pyout",
       "prompt_number": 19,
       "text": [
        "2"
       ]
      }
     ],
     "prompt_number": 19
    },
    {
     "cell_type": "code",
     "collapsed": false,
     "input": [
      "b.shape"
     ],
     "language": "python",
     "metadata": {},
     "outputs": [
      {
       "metadata": {},
       "output_type": "pyout",
       "prompt_number": 20,
       "text": [
        "(2, 3)"
       ]
      }
     ],
     "prompt_number": 20
    },
    {
     "cell_type": "code",
     "collapsed": false,
     "input": [
      "c = np.array([[[1, 2], [3, 4], [5, 6]], [[7, 8], [9, 10], [11, 12]]])\n",
      "c"
     ],
     "language": "python",
     "metadata": {},
     "outputs": [
      {
       "metadata": {},
       "output_type": "pyout",
       "prompt_number": 26,
       "text": [
        "array([[[ 1,  2],\n",
        "        [ 3,  4],\n",
        "        [ 5,  6]],\n",
        "\n",
        "       [[ 7,  8],\n",
        "        [ 9, 10],\n",
        "        [11, 12]]])"
       ]
      }
     ],
     "prompt_number": 26
    },
    {
     "cell_type": "code",
     "collapsed": false,
     "input": [
      "c.shape"
     ],
     "language": "python",
     "metadata": {},
     "outputs": [
      {
       "metadata": {},
       "output_type": "pyout",
       "prompt_number": 27,
       "text": [
        "(2, 3, 2)"
       ]
      }
     ],
     "prompt_number": 27
    },
    {
     "cell_type": "markdown",
     "metadata": {},
     "source": [
      "In practice, we rarely enter items one by one...\n",
      "\n",
      "* Evenly spaced:"
     ]
    },
    {
     "cell_type": "code",
     "collapsed": false,
     "input": [
      "a = np.arange(10) # 0 .. n-1 (!)\n",
      "a"
     ],
     "language": "python",
     "metadata": {},
     "outputs": [
      {
       "metadata": {},
       "output_type": "pyout",
       "prompt_number": 28,
       "text": [
        "array([0, 1, 2, 3, 4, 5, 6, 7, 8, 9])"
       ]
      }
     ],
     "prompt_number": 28
    },
    {
     "cell_type": "code",
     "collapsed": false,
     "input": [
      "b = np.arange(1, 9, 1) # start, end (exlusive), step\n",
      "b"
     ],
     "language": "python",
     "metadata": {},
     "outputs": [
      {
       "metadata": {},
       "output_type": "pyout",
       "prompt_number": 31,
       "text": [
        "array([1, 2, 3, 4, 5, 6, 7, 8])"
       ]
      }
     ],
     "prompt_number": 31
    },
    {
     "cell_type": "markdown",
     "metadata": {},
     "source": [
      "* or by number of points:"
     ]
    },
    {
     "cell_type": "code",
     "collapsed": false,
     "input": [
      "c = np.linspace(0, 1, 6, endpoint=False) # start, end, num-points\n",
      "c"
     ],
     "language": "python",
     "metadata": {},
     "outputs": [
      {
       "metadata": {},
       "output_type": "pyout",
       "prompt_number": 33,
       "text": [
        "array([ 0.        ,  0.16666667,  0.33333333,  0.5       ,  0.66666667,\n",
        "        0.83333333])"
       ]
      }
     ],
     "prompt_number": 33
    },
    {
     "cell_type": "code",
     "collapsed": false,
     "input": [
      "d = np.linspace(0, 1, 5, endpoint=False)\n",
      "d"
     ],
     "language": "python",
     "metadata": {},
     "outputs": []
    },
    {
     "cell_type": "markdown",
     "metadata": {},
     "source": [
      "* Common arrays: "
     ]
    },
    {
     "cell_type": "code",
     "collapsed": false,
     "input": [
      "a = np.ones((3, 3)) # reminder: (3, 3) is a tuple\n",
      "a"
     ],
     "language": "python",
     "metadata": {},
     "outputs": [
      {
       "metadata": {},
       "output_type": "pyout",
       "prompt_number": 37,
       "text": [
        "array([[ 1.,  1.,  1.],\n",
        "       [ 1.,  1.,  1.],\n",
        "       [ 1.,  1.,  1.]])"
       ]
      }
     ],
     "prompt_number": 37
    },
    {
     "cell_type": "code",
     "collapsed": false,
     "input": [
      "b = np.zeros((2, 2))\n",
      "b"
     ],
     "language": "python",
     "metadata": {},
     "outputs": [
      {
       "metadata": {},
       "output_type": "pyout",
       "prompt_number": 38,
       "text": [
        "array([[ 0.,  0.],\n",
        "       [ 0.,  0.]])"
       ]
      }
     ],
     "prompt_number": 38
    },
    {
     "cell_type": "code",
     "collapsed": false,
     "input": [
      "c = np.eye(3)\n",
      "c"
     ],
     "language": "python",
     "metadata": {},
     "outputs": [
      {
       "metadata": {},
       "output_type": "pyout",
       "prompt_number": 39,
       "text": [
        "array([[ 1.,  0.,  0.],\n",
        "       [ 0.,  1.,  0.],\n",
        "       [ 0.,  0.,  1.]])"
       ]
      }
     ],
     "prompt_number": 39
    },
    {
     "cell_type": "code",
     "collapsed": false,
     "input": [
      "d = np.diag(np.array([1, 2, 3, 4]))\n",
      "d"
     ],
     "language": "python",
     "metadata": {},
     "outputs": [
      {
       "metadata": {},
       "output_type": "pyout",
       "prompt_number": 40,
       "text": [
        "array([[1, 0, 0, 0],\n",
        "       [0, 2, 0, 0],\n",
        "       [0, 0, 3, 0],\n",
        "       [0, 0, 0, 4]])"
       ]
      }
     ],
     "prompt_number": 40
    },
    {
     "cell_type": "markdown",
     "metadata": {},
     "source": [
      "* np.random: random numbers (Mersenne Twister PRNG):"
     ]
    },
    {
     "cell_type": "code",
     "collapsed": false,
     "input": [
      "a = np.random.rand(4) # uniform in [0, 1]\n",
      "a"
     ],
     "language": "python",
     "metadata": {},
     "outputs": [
      {
       "metadata": {},
       "output_type": "pyout",
       "prompt_number": 41,
       "text": [
        "array([ 0.09739491,  0.13817063,  0.67998996,  0.83138239])"
       ]
      }
     ],
     "prompt_number": 41
    },
    {
     "cell_type": "code",
     "collapsed": false,
     "input": [
      "b = np.random.randn(4) # Gaussian\n",
      "b"
     ],
     "language": "python",
     "metadata": {},
     "outputs": [
      {
       "metadata": {},
       "output_type": "pyout",
       "prompt_number": 55,
       "text": [
        "array([ 0.47143516, -1.19097569,  1.43270697, -0.3126519 ])"
       ]
      }
     ],
     "prompt_number": 55
    },
    {
     "cell_type": "code",
     "collapsed": false,
     "input": [
      "np.random.seed(1234) # Setting the random seed"
     ],
     "language": "python",
     "metadata": {},
     "outputs": [],
     "prompt_number": 54
    },
    {
     "cell_type": "heading",
     "level": 3,
     "metadata": {},
     "source": [
      "Basic data types"
     ]
    },
    {
     "cell_type": "markdown",
     "metadata": {},
     "source": [
      "You may have noticed that, in some instances, array elements are displayed with a trailing dot (e.g. 2. vs 2). \n",
      "\n",
      "This is due to a difference in the data-type used:"
     ]
    },
    {
     "cell_type": "code",
     "collapsed": false,
     "input": [
      "a = np.array([1, 2, 3]).astype(float)\n",
      "a[0] = 2121.2\n",
      "a"
     ],
     "language": "python",
     "metadata": {},
     "outputs": [
      {
       "metadata": {},
       "output_type": "pyout",
       "prompt_number": 62,
       "text": [
        "array([  2.12120000e+03,   2.00000000e+00,   3.00000000e+00])"
       ]
      }
     ],
     "prompt_number": 62
    },
    {
     "cell_type": "code",
     "collapsed": false,
     "input": [
      "b = np.array([1., 2., 3.])\n",
      "b.dtype"
     ],
     "language": "python",
     "metadata": {},
     "outputs": [
      {
       "metadata": {},
       "output_type": "pyout",
       "prompt_number": 57,
       "text": [
        "dtype('float64')"
       ]
      }
     ],
     "prompt_number": 57
    },
    {
     "cell_type": "markdown",
     "metadata": {},
     "source": [
      "Different data-types allow us to store data more compactly in memory, but most of the time we simply work with\n",
      "floating point numbers. \n",
      "\n",
      "Note that, in the example above, NumPy auto-detects the data-type from the input.\n",
      "\n",
      "* You can explicitly specify which data-type you want:"
     ]
    },
    {
     "cell_type": "code",
     "collapsed": false,
     "input": [
      "c = np.array([1, 2, 3], dtype=int)\n",
      "c.dtype"
     ],
     "language": "python",
     "metadata": {},
     "outputs": []
    },
    {
     "cell_type": "markdown",
     "metadata": {},
     "source": [
      "* The default data type is floating point:"
     ]
    },
    {
     "cell_type": "code",
     "collapsed": false,
     "input": [
      "a = np.ones((3, 3))\n",
      "a.dtype"
     ],
     "language": "python",
     "metadata": {},
     "outputs": []
    },
    {
     "cell_type": "markdown",
     "metadata": {},
     "source": [
      "There are also other types:\n",
      "\n",
      "* Complex"
     ]
    },
    {
     "cell_type": "code",
     "collapsed": false,
     "input": [
      "d = np.array([1+2j, 3+4j, 5+6*1j])\n",
      "d.dtype"
     ],
     "language": "python",
     "metadata": {},
     "outputs": []
    },
    {
     "cell_type": "markdown",
     "metadata": {},
     "source": [
      "* Bool"
     ]
    },
    {
     "cell_type": "code",
     "collapsed": false,
     "input": [
      "e = np.array([True, False, False, True])\n",
      "e.dtype"
     ],
     "language": "python",
     "metadata": {},
     "outputs": []
    },
    {
     "cell_type": "markdown",
     "metadata": {},
     "source": [
      "* Strings"
     ]
    },
    {
     "cell_type": "code",
     "collapsed": false,
     "input": [
      "f = np.array(['a','happy','world'])\n",
      "f.dtype # <--- strings containing max. 5 letters"
     ],
     "language": "python",
     "metadata": {},
     "outputs": []
    },
    {
     "cell_type": "code",
     "collapsed": false,
     "input": [
      "f[:] = 'abcdefg'\n",
      "f"
     ],
     "language": "python",
     "metadata": {},
     "outputs": []
    },
    {
     "cell_type": "markdown",
     "metadata": {},
     "source": [
      "* Much more, ... int32/int64 ..."
     ]
    },
    {
     "cell_type": "heading",
     "level": 3,
     "metadata": {},
     "source": [
      "Indexing and slicing"
     ]
    },
    {
     "cell_type": "markdown",
     "metadata": {},
     "source": [
      "The items of an array can be accessed and assigned to the same way as other Python sequences (e.g. lists)"
     ]
    },
    {
     "cell_type": "code",
     "collapsed": false,
     "input": [
      "a = np.arange(10)\n",
      "a"
     ],
     "language": "python",
     "metadata": {},
     "outputs": [
      {
       "metadata": {},
       "output_type": "pyout",
       "prompt_number": 63,
       "text": [
        "array([0, 1, 2, 3, 4, 5, 6, 7, 8, 9])"
       ]
      }
     ],
     "prompt_number": 63
    },
    {
     "cell_type": "code",
     "collapsed": false,
     "input": [
      "a[-4]"
     ],
     "language": "python",
     "metadata": {},
     "outputs": [
      {
       "metadata": {},
       "output_type": "pyout",
       "prompt_number": 66,
       "text": [
        "6"
       ]
      }
     ],
     "prompt_number": 66
    },
    {
     "cell_type": "markdown",
     "metadata": {},
     "source": [
      "**Warning: Indices begin at 0, like other Python sequences (and C/C++).**\n",
      "\n",
      "In contrast, in Fortran or Matlab, indices begin at 1."
     ]
    },
    {
     "cell_type": "markdown",
     "metadata": {},
     "source": [
      "* For multidimensional arrays, indices are tuples of integers:"
     ]
    },
    {
     "cell_type": "code",
     "collapsed": false,
     "input": [
      "a = np.diag(np.arange(3))\n",
      "a"
     ],
     "language": "python",
     "metadata": {},
     "outputs": [
      {
       "metadata": {},
       "output_type": "pyout",
       "prompt_number": 67,
       "text": [
        "array([[0, 0, 0],\n",
        "       [0, 1, 0],\n",
        "       [0, 0, 2]])"
       ]
      }
     ],
     "prompt_number": 67
    },
    {
     "cell_type": "code",
     "collapsed": false,
     "input": [
      "a[1, 1]"
     ],
     "language": "python",
     "metadata": {},
     "outputs": [
      {
       "metadata": {},
       "output_type": "pyout",
       "prompt_number": 68,
       "text": [
        "1"
       ]
      }
     ],
     "prompt_number": 68
    },
    {
     "cell_type": "code",
     "collapsed": false,
     "input": [
      "a[2, 1] = 10 # third line, second column\n",
      "a"
     ],
     "language": "python",
     "metadata": {},
     "outputs": [
      {
       "metadata": {},
       "output_type": "pyout",
       "prompt_number": 69,
       "text": [
        "array([[ 0,  0,  0],\n",
        "       [ 0,  1,  0],\n",
        "       [ 0, 10,  2]])"
       ]
      }
     ],
     "prompt_number": 69
    },
    {
     "cell_type": "code",
     "collapsed": false,
     "input": [
      "a[1]"
     ],
     "language": "python",
     "metadata": {},
     "outputs": [
      {
       "metadata": {},
       "output_type": "pyout",
       "prompt_number": 70,
       "text": [
        "array([0, 1, 0])"
       ]
      }
     ],
     "prompt_number": 70
    },
    {
     "cell_type": "markdown",
     "metadata": {},
     "source": [
      "**Note that:**\n",
      "\n",
      "* In 2D, the first dimension corresponds to rows, the second to columns.\n",
      "* for multidimensional a, a[0] is interpreted by taking all elements in the unspecified dimensions."
     ]
    },
    {
     "cell_type": "markdown",
     "metadata": {},
     "source": [
      "**Slicing** \n",
      "\n",
      "* Arrays, like other Python sequences can also be sliced:"
     ]
    },
    {
     "cell_type": "code",
     "collapsed": false,
     "input": [
      "a = np.arange(10)\n",
      "a"
     ],
     "language": "python",
     "metadata": {},
     "outputs": [
      {
       "metadata": {},
       "output_type": "pyout",
       "prompt_number": 71,
       "text": [
        "array([0, 1, 2, 3, 4, 5, 6, 7, 8, 9])"
       ]
      }
     ],
     "prompt_number": 71
    },
    {
     "cell_type": "code",
     "collapsed": false,
     "input": [
      "a[2:9:3] # [start:end:step]"
     ],
     "language": "python",
     "metadata": {},
     "outputs": [
      {
       "metadata": {},
       "output_type": "pyout",
       "prompt_number": 72,
       "text": [
        "array([2, 5, 8])"
       ]
      }
     ],
     "prompt_number": 72
    },
    {
     "cell_type": "markdown",
     "metadata": {},
     "source": [
      "**Note that:** \n",
      "    \n",
      "* last index is not included!"
     ]
    },
    {
     "cell_type": "code",
     "collapsed": false,
     "input": [
      "a[:4]"
     ],
     "language": "python",
     "metadata": {},
     "outputs": [
      {
       "metadata": {},
       "output_type": "pyout",
       "prompt_number": 73,
       "text": [
        "array([0, 1, 2, 3])"
       ]
      }
     ],
     "prompt_number": 73
    },
    {
     "cell_type": "markdown",
     "metadata": {},
     "source": [
      "* All three slice components are optional \n",
      "* by default, start is 0, end is the last and step is 1:"
     ]
    },
    {
     "cell_type": "code",
     "collapsed": false,
     "input": [
      "a[1:3]"
     ],
     "language": "python",
     "metadata": {},
     "outputs": []
    },
    {
     "cell_type": "code",
     "collapsed": false,
     "input": [
      "a[::2]"
     ],
     "language": "python",
     "metadata": {},
     "outputs": [
      {
       "metadata": {},
       "output_type": "pyout",
       "prompt_number": 74,
       "text": [
        "array([0, 2, 4, 6, 8])"
       ]
      }
     ],
     "prompt_number": 74
    },
    {
     "cell_type": "code",
     "collapsed": false,
     "input": [
      "a[3:]"
     ],
     "language": "python",
     "metadata": {},
     "outputs": []
    },
    {
     "cell_type": "heading",
     "level": 3,
     "metadata": {},
     "source": [
      "Copies and views"
     ]
    },
    {
     "cell_type": "markdown",
     "metadata": {},
     "source": [
      "* A slicing operation creates a **view** on the original array. \n",
      "\n",
      "* This is just a way of *accessing* array data. Thus the\n",
      "original array is **not copied in memory**.\n",
      "\n",
      "* When modifying the view, the original array is modified as well:"
     ]
    },
    {
     "cell_type": "code",
     "collapsed": false,
     "input": [
      "a = np.arange(10)\n",
      "a"
     ],
     "language": "python",
     "metadata": {},
     "outputs": [
      {
       "metadata": {},
       "output_type": "pyout",
       "prompt_number": 75,
       "text": [
        "array([0, 1, 2, 3, 4, 5, 6, 7, 8, 9])"
       ]
      }
     ],
     "prompt_number": 75
    },
    {
     "cell_type": "code",
     "collapsed": false,
     "input": [
      "b = a[::2]\n",
      "b"
     ],
     "language": "python",
     "metadata": {},
     "outputs": [
      {
       "metadata": {},
       "output_type": "pyout",
       "prompt_number": 76,
       "text": [
        "array([0, 2, 4, 6, 8])"
       ]
      }
     ],
     "prompt_number": 76
    },
    {
     "cell_type": "code",
     "collapsed": false,
     "input": [
      "b[0] = 12\n",
      "b"
     ],
     "language": "python",
     "metadata": {},
     "outputs": [
      {
       "metadata": {},
       "output_type": "pyout",
       "prompt_number": 77,
       "text": [
        "array([12,  2,  4,  6,  8])"
       ]
      }
     ],
     "prompt_number": 77
    },
    {
     "cell_type": "code",
     "collapsed": false,
     "input": [
      "x = [1,2,3,4]\n",
      "b = x[0:2]\n",
      "b[0]=100000\n",
      "x"
     ],
     "language": "python",
     "metadata": {},
     "outputs": [
      {
       "metadata": {},
       "output_type": "pyout",
       "prompt_number": 83,
       "text": [
        "[1, 2, 3, 4]"
       ]
      }
     ],
     "prompt_number": 83
    },
    {
     "cell_type": "code",
     "collapsed": false,
     "input": [
      "a = np.arange(10)\n",
      "b = a[::2].copy() # force a copy\n",
      "b[0] = 12\n",
      "a"
     ],
     "language": "python",
     "metadata": {},
     "outputs": [
      {
       "metadata": {},
       "output_type": "pyout",
       "prompt_number": 79,
       "text": [
        "array([0, 1, 2, 3, 4, 5, 6, 7, 8, 9])"
       ]
      }
     ],
     "prompt_number": 79
    },
    {
     "cell_type": "markdown",
     "metadata": {},
     "source": [
      "* This behavior can be surprising at first sight... \n",
      "\n",
      "* but it allows to save both memory and time."
     ]
    },
    {
     "cell_type": "markdown",
     "metadata": {},
     "source": [
      "**Warning:** The transpose is a view\n",
      "\n",
      "As a result, a matrix cannot be made symmetric in-place:"
     ]
    },
    {
     "cell_type": "code",
     "collapsed": false,
     "input": [
      "a = np.ones((100, 100))\n",
      "a += a.T\n",
      "a"
     ],
     "language": "python",
     "metadata": {},
     "outputs": [
      {
       "metadata": {},
       "output_type": "pyout",
       "prompt_number": 86,
       "text": [
        "array([[ 2.,  2.,  2., ...,  2.,  2.,  2.],\n",
        "       [ 2.,  2.,  2., ...,  2.,  2.,  2.],\n",
        "       [ 2.,  2.,  2., ...,  2.,  2.,  2.],\n",
        "       ..., \n",
        "       [ 3.,  3.,  3., ...,  2.,  2.,  2.],\n",
        "       [ 3.,  3.,  3., ...,  2.,  2.,  2.],\n",
        "       [ 3.,  3.,  3., ...,  2.,  2.,  2.]])"
       ]
      }
     ],
     "prompt_number": 86
    },
    {
     "cell_type": "code",
     "collapsed": false,
     "input": [
      "a = np.ones((100,100))\n",
      "a += a.copy().T\n",
      "a"
     ],
     "language": "python",
     "metadata": {},
     "outputs": [
      {
       "metadata": {},
       "output_type": "pyout",
       "prompt_number": 87,
       "text": [
        "array([[ 2.,  2.,  2., ...,  2.,  2.,  2.],\n",
        "       [ 2.,  2.,  2., ...,  2.,  2.,  2.],\n",
        "       [ 2.,  2.,  2., ...,  2.,  2.,  2.],\n",
        "       ..., \n",
        "       [ 2.,  2.,  2., ...,  2.,  2.,  2.],\n",
        "       [ 2.,  2.,  2., ...,  2.,  2.,  2.],\n",
        "       [ 2.,  2.,  2., ...,  2.,  2.,  2.]])"
       ]
      }
     ],
     "prompt_number": 87
    },
    {
     "cell_type": "heading",
     "level": 1,
     "metadata": {},
     "source": [
      "A worked *Exercise*: Prime number sieve"
     ]
    },
    {
     "cell_type": "markdown",
     "metadata": {},
     "source": [
      "Compute prime numbers in 0\u201399, with a \"sieve\"\n",
      "\n",
      "* Construct a shape (100,) boolean array is_prime, filled with True in the beginning\n",
      "\n",
      "* Cross out 0 and 1 which are not primes \n",
      "\n",
      "* For each integer j starting from 2, cross out its higher multiples "
     ]
    },
    {
     "cell_type": "markdown",
     "metadata": {},
     "source": [
      "* Construct a shape (100,) boolean array is_prime, filled with True in the beginning:"
     ]
    },
    {
     "cell_type": "code",
     "collapsed": false,
     "input": [],
     "language": "python",
     "metadata": {},
     "outputs": []
    },
    {
     "cell_type": "markdown",
     "metadata": {},
     "source": [
      "* Cross out 0 and 1 which are not primes:"
     ]
    },
    {
     "cell_type": "code",
     "collapsed": false,
     "input": [],
     "language": "python",
     "metadata": {},
     "outputs": []
    },
    {
     "cell_type": "markdown",
     "metadata": {},
     "source": [
      "* For each integer j starting from 2, cross out its higher multiples:"
     ]
    },
    {
     "cell_type": "code",
     "collapsed": false,
     "input": [
      "\n",
      "\n"
     ],
     "language": "python",
     "metadata": {},
     "outputs": []
    },
    {
     "cell_type": "markdown",
     "metadata": {},
     "source": [
      "* Skim through help(np.nonzero), and print the prime numbers\n",
      "* Follow-up:\n",
      "  * Move the above code into a script file named prime_sieve.py\n",
      "  * Run it to check it works"
     ]
    },
    {
     "cell_type": "code",
     "collapsed": false,
     "input": [
      "help(np.nonzero)"
     ],
     "language": "python",
     "metadata": {},
     "outputs": []
    },
    {
     "cell_type": "code",
     "collapsed": false,
     "input": [],
     "language": "python",
     "metadata": {},
     "outputs": []
    },
    {
     "cell_type": "markdown",
     "metadata": {},
     "source": [
      "* Convert the simple sieve to the sieve of Eratosthenes:\n",
      "  1. Skip j which are already known to not be primes\n",
      "  2. The first number to cross out is j^2"
     ]
    },
    {
     "cell_type": "code",
     "collapsed": false,
     "input": [],
     "language": "python",
     "metadata": {},
     "outputs": []
    },
    {
     "cell_type": "heading",
     "level": 3,
     "metadata": {},
     "source": [
      "Adding Axes"
     ]
    },
    {
     "cell_type": "markdown",
     "metadata": {},
     "source": [
      "Indexing with the np.newaxis object allows us to add an axis to an array:"
     ]
    },
    {
     "cell_type": "code",
     "collapsed": false,
     "input": [
      "z = np.array([1, 2, 3])\n",
      "z"
     ],
     "language": "python",
     "metadata": {},
     "outputs": [
      {
       "metadata": {},
       "output_type": "pyout",
       "prompt_number": 88,
       "text": [
        "array([1, 2, 3])"
       ]
      }
     ],
     "prompt_number": 88
    },
    {
     "cell_type": "code",
     "collapsed": false,
     "input": [
      "z[:, np.newaxis]"
     ],
     "language": "python",
     "metadata": {},
     "outputs": [
      {
       "metadata": {},
       "output_type": "pyout",
       "prompt_number": 89,
       "text": [
        "array([[1],\n",
        "       [2],\n",
        "       [3]])"
       ]
      }
     ],
     "prompt_number": 89
    },
    {
     "cell_type": "code",
     "collapsed": false,
     "input": [
      "z[np.newaxis, :]"
     ],
     "language": "python",
     "metadata": {},
     "outputs": [
      {
       "metadata": {},
       "output_type": "pyout",
       "prompt_number": 90,
       "text": [
        "array([[1, 2, 3]])"
       ]
      }
     ],
     "prompt_number": 90
    },
    {
     "cell_type": "heading",
     "level": 3,
     "metadata": {},
     "source": [
      "Fancy indexing"
     ]
    },
    {
     "cell_type": "markdown",
     "metadata": {},
     "source": [
      "* Numpy arrays can be indexed with *slices*\n",
      "\n",
      "* but also with *boolean or integer arrays (masks)*\n",
      "\n",
      "* This method is called fancy indexing. \n",
      "\n",
      "* It creates copies not views."
     ]
    },
    {
     "cell_type": "markdown",
     "metadata": {},
     "source": [
      "**Using boolean masks**"
     ]
    },
    {
     "cell_type": "code",
     "collapsed": false,
     "input": [
      "np.random.seed(3)\n",
      "a = np.random.random_integers(0, 20, 15)\n",
      "a"
     ],
     "language": "python",
     "metadata": {},
     "outputs": [
      {
       "metadata": {},
       "output_type": "pyout",
       "prompt_number": 96,
       "text": [
        "array([10,  3,  8,  0, 19, 10, 11,  9, 10,  6,  0, 20, 12,  7, 14])"
       ]
      }
     ],
     "prompt_number": 96
    },
    {
     "cell_type": "code",
     "collapsed": false,
     "input": [
      "(a % 3 == 0)"
     ],
     "language": "python",
     "metadata": {},
     "outputs": [
      {
       "metadata": {},
       "output_type": "pyout",
       "prompt_number": 92,
       "text": [
        "array([False,  True, False,  True, False, False, False,  True, False,\n",
        "        True,  True, False,  True, False, False], dtype=bool)"
       ]
      }
     ],
     "prompt_number": 92
    },
    {
     "cell_type": "code",
     "collapsed": false,
     "input": [
      "mask = (a % 3 == 0)\n",
      "extract_from_a = a[mask] # or, a[a%3==0]\n",
      "extract_from_a # extract a sub-array with the mask\n",
      "extract_from_a[0] = 9999999\n",
      "a"
     ],
     "language": "python",
     "metadata": {},
     "outputs": [
      {
       "metadata": {},
       "output_type": "pyout",
       "prompt_number": 97,
       "text": [
        "array([10,  3,  8,  0, 19, 10, 11,  9, 10,  6,  0, 20, 12,  7, 14])"
       ]
      }
     ],
     "prompt_number": 97
    },
    {
     "cell_type": "markdown",
     "metadata": {},
     "source": [
      "* Indexing with a mask can be very useful to assign a new value to a sub-array:"
     ]
    },
    {
     "cell_type": "code",
     "collapsed": false,
     "input": [
      "a[a % 3 == 0] = -1\n",
      "a"
     ],
     "language": "python",
     "metadata": {},
     "outputs": [
      {
       "metadata": {},
       "output_type": "pyout",
       "prompt_number": 98,
       "text": [
        "array([10, -1,  8, -1, 19, 10, 11, -1, 10, -1, -1, 20, -1,  7, 14])"
       ]
      }
     ],
     "prompt_number": 98
    },
    {
     "cell_type": "markdown",
     "metadata": {},
     "source": [
      "**Indexing with an array of integers**"
     ]
    },
    {
     "cell_type": "code",
     "collapsed": false,
     "input": [
      "a = np.arange(2,12)\n",
      "a"
     ],
     "language": "python",
     "metadata": {},
     "outputs": [
      {
       "metadata": {},
       "output_type": "pyout",
       "prompt_number": 102,
       "text": [
        "array([ 2,  3,  4,  5,  6,  7,  8,  9, 10, 11])"
       ]
      }
     ],
     "prompt_number": 102
    },
    {
     "cell_type": "markdown",
     "metadata": {},
     "source": [
      "* Indexing can be done with an array of integers, where the same index is repeated several time:"
     ]
    },
    {
     "cell_type": "code",
     "collapsed": false,
     "input": [
      "a[[2, 3, 2, 4, 2]] # note: [2, 3, 2, 4, 2] is a Python list"
     ],
     "language": "python",
     "metadata": {},
     "outputs": [
      {
       "metadata": {},
       "output_type": "pyout",
       "prompt_number": 103,
       "text": [
        "array([4, 5, 4, 6, 4])"
       ]
      }
     ],
     "prompt_number": 103
    },
    {
     "cell_type": "markdown",
     "metadata": {},
     "source": [
      "* New values can be assigned with this kind of indexing:"
     ]
    },
    {
     "cell_type": "code",
     "collapsed": false,
     "input": [
      "a[[9, 7]] = -10\n",
      "a"
     ],
     "language": "python",
     "metadata": {},
     "outputs": [
      {
       "metadata": {},
       "output_type": "pyout",
       "prompt_number": 104,
       "text": [
        "array([  2,   3,   4,   5,   6,   7,   8, -10,  10, -10])"
       ]
      }
     ],
     "prompt_number": 104
    },
    {
     "cell_type": "markdown",
     "metadata": {},
     "source": [
      "* When a new array is created by indexing with an array of integers, the new array has the same shape as the array\n",
      "of integers:"
     ]
    },
    {
     "cell_type": "code",
     "collapsed": false,
     "input": [
      "a = np.arange(10)\n",
      "idx = np.array([[3, 4], [9, 7]])\n",
      "a[idx]"
     ],
     "language": "python",
     "metadata": {},
     "outputs": []
    },
    {
     "cell_type": "markdown",
     "metadata": {},
     "source": [
      "**Consider the following examples of fancy indexing:**"
     ]
    },
    {
     "cell_type": "code",
     "collapsed": false,
     "input": [
      "a = np.arange(36).reshape(6,6)\n",
      "a"
     ],
     "language": "python",
     "metadata": {},
     "outputs": []
    },
    {
     "cell_type": "code",
     "collapsed": false,
     "input": [
      "a[(0,1,2,3,4),(1,2,3,4,5)]"
     ],
     "language": "python",
     "metadata": {},
     "outputs": []
    },
    {
     "cell_type": "code",
     "collapsed": false,
     "input": [
      "a[:3,[0,2,5]]"
     ],
     "language": "python",
     "metadata": {},
     "outputs": []
    },
    {
     "cell_type": "code",
     "collapsed": false,
     "input": [
      "mask = np.array([1,0,1,0,0,1],dtype=bool)\n",
      "a[mask,2]"
     ],
     "language": "python",
     "metadata": {},
     "outputs": []
    },
    {
     "cell_type": "markdown",
     "metadata": {},
     "source": [
      "* We can even use *fancy indexing* and *broadcasting* (later) at the same time:"
     ]
    },
    {
     "cell_type": "code",
     "collapsed": false,
     "input": [
      "a = np.arange(12).reshape(3,4)\n",
      "a"
     ],
     "language": "python",
     "metadata": {},
     "outputs": []
    },
    {
     "cell_type": "code",
     "collapsed": false,
     "input": [
      "i = np.array([[0, 1], [1, 2]])\n",
      "a[i, 2] # same as a[i, 2*np.ones((2, 2), dtype=int)]"
     ],
     "language": "python",
     "metadata": {},
     "outputs": []
    },
    {
     "cell_type": "heading",
     "level": 3,
     "metadata": {},
     "source": [
      "Numerical operations on arrays"
     ]
    },
    {
     "cell_type": "markdown",
     "metadata": {},
     "source": [
      "Most of numpy and scipy's mathematical operations are *vectorized*. Applying these operations to arrays means they are applied elementwise.\n",
      "However, similar to MATLAB, internally the elementwise operations are implemented in *C* and *C++*. Thus *vectorized* computations are much faster than if you would simply loop through each element yourself and apply your operation manually.\n",
      "\n",
      "So alway try think *vectorized* instead of manually looping through arrays."
     ]
    },
    {
     "cell_type": "markdown",
     "metadata": {},
     "source": [
      "**Elementwise operations**\n",
      "\n",
      "* With scalars:"
     ]
    },
    {
     "cell_type": "code",
     "collapsed": false,
     "input": [
      "a = np.array([1, 2, 3, 4])\n",
      "a + 1"
     ],
     "language": "python",
     "metadata": {},
     "outputs": [
      {
       "metadata": {},
       "output_type": "pyout",
       "prompt_number": 105,
       "text": [
        "array([2, 3, 4, 5])"
       ]
      }
     ],
     "prompt_number": 105
    },
    {
     "cell_type": "code",
     "collapsed": false,
     "input": [
      "2**a"
     ],
     "language": "python",
     "metadata": {},
     "outputs": [
      {
       "metadata": {},
       "output_type": "pyout",
       "prompt_number": 106,
       "text": [
        "array([ 2,  4,  8, 16])"
       ]
      }
     ],
     "prompt_number": 106
    },
    {
     "cell_type": "code",
     "collapsed": false,
     "input": [
      "\"\"\"Speed up of vectorization\"\"\"\n",
      "def twice_each_element(a):\n",
      "    b=np.zeros(a.shape)\n",
      "    \n",
      "    for idx, elem in enumerate(a):\n",
      "        b[idx] = 2*elem\n",
      "    \n",
      "    return b\n",
      "\n",
      "a = np.arange(100)\n",
      "\n",
      "%timeit twice_each_element(a)\n",
      "%timeit 2*a"
     ],
     "language": "python",
     "metadata": {},
     "outputs": [
      {
       "output_type": "stream",
       "stream": "stdout",
       "text": [
        "10000 loops, best of 3: 35.3 \u00b5s per loop\n",
        "1000000 loops, best of 3: 944 ns per loop"
       ]
      },
      {
       "output_type": "stream",
       "stream": "stdout",
       "text": [
        "\n"
       ]
      }
     ],
     "prompt_number": 107
    },
    {
     "cell_type": "markdown",
     "metadata": {},
     "source": [
      "* All arithmetic operates elementwise:"
     ]
    },
    {
     "cell_type": "code",
     "collapsed": false,
     "input": [
      "a = np.array([1, 2, 3, 4])\n",
      "b = np.ones(4) + 1\n",
      "print a\n",
      "print b\n",
      "a - b"
     ],
     "language": "python",
     "metadata": {},
     "outputs": [
      {
       "output_type": "stream",
       "stream": "stdout",
       "text": [
        "[1 2 3 4]\n",
        "[ 2.  2.  2.  2.]\n"
       ]
      },
      {
       "metadata": {},
       "output_type": "pyout",
       "prompt_number": 109,
       "text": [
        "array([-1.,  0.,  1.,  2.])"
       ]
      }
     ],
     "prompt_number": 109
    },
    {
     "cell_type": "code",
     "collapsed": false,
     "input": [
      "a*b"
     ],
     "language": "python",
     "metadata": {},
     "outputs": [
      {
       "metadata": {},
       "output_type": "pyout",
       "prompt_number": 112,
       "text": [
        "array([ 2.,  4.,  6.,  8.])"
       ]
      }
     ],
     "prompt_number": 112
    },
    {
     "cell_type": "code",
     "collapsed": false,
     "input": [
      "j = np.arange(5)\n",
      "2**(j + 1) - j"
     ],
     "language": "python",
     "metadata": {},
     "outputs": [
      {
       "metadata": {},
       "output_type": "pyout",
       "prompt_number": 113,
       "text": [
        "array([ 2,  3,  6, 13, 28])"
       ]
      }
     ],
     "prompt_number": 113
    },
    {
     "cell_type": "markdown",
     "metadata": {},
     "source": [
      "**Warning:** \n",
      "\n",
      "* Array multiplication is not matrix multiplication:"
     ]
    },
    {
     "cell_type": "code",
     "collapsed": false,
     "input": [
      "c = np.ones((3, 3))\n",
      "c * c # NOT matrix multiplication!"
     ],
     "language": "python",
     "metadata": {},
     "outputs": [
      {
       "metadata": {},
       "output_type": "pyout",
       "prompt_number": 114,
       "text": [
        "array([[ 1.,  1.,  1.],\n",
        "       [ 1.,  1.,  1.],\n",
        "       [ 1.,  1.,  1.]])"
       ]
      }
     ],
     "prompt_number": 114
    },
    {
     "cell_type": "markdown",
     "metadata": {},
     "source": [
      "* *Note:* Matrix multiplication:"
     ]
    },
    {
     "cell_type": "code",
     "collapsed": false,
     "input": [
      "c.dot(c)"
     ],
     "language": "python",
     "metadata": {},
     "outputs": [
      {
       "metadata": {},
       "output_type": "pyout",
       "prompt_number": 115,
       "text": [
        "array([[ 3.,  3.,  3.],\n",
        "       [ 3.,  3.,  3.],\n",
        "       [ 3.,  3.,  3.]])"
       ]
      }
     ],
     "prompt_number": 115
    },
    {
     "cell_type": "markdown",
     "metadata": {},
     "source": [
      "* Comparisons:"
     ]
    },
    {
     "cell_type": "code",
     "collapsed": false,
     "input": [
      "a = np.array([1, 2, 3, 4])\n",
      "b = np.array([4, 2, 2, 4])\n",
      "a == b"
     ],
     "language": "python",
     "metadata": {},
     "outputs": [
      {
       "metadata": {},
       "output_type": "pyout",
       "prompt_number": 116,
       "text": [
        "array([False,  True, False,  True], dtype=bool)"
       ]
      }
     ],
     "prompt_number": 116
    },
    {
     "cell_type": "code",
     "collapsed": false,
     "input": [
      "a > b"
     ],
     "language": "python",
     "metadata": {},
     "outputs": [
      {
       "metadata": {},
       "output_type": "pyout",
       "prompt_number": 117,
       "text": [
        "array([False, False,  True, False], dtype=bool)"
       ]
      }
     ],
     "prompt_number": 117
    },
    {
     "cell_type": "markdown",
     "metadata": {},
     "source": [
      "* Logical operations:"
     ]
    },
    {
     "cell_type": "code",
     "collapsed": false,
     "input": [
      "a = np.array([1, 1, 0, 0], dtype=bool)\n",
      "b = np.array([1, 0, 1, 0], dtype=bool)\n",
      "np.logical_or(a, b)"
     ],
     "language": "python",
     "metadata": {},
     "outputs": [
      {
       "metadata": {},
       "output_type": "pyout",
       "prompt_number": 118,
       "text": [
        "array([ True,  True,  True, False], dtype=bool)"
       ]
      }
     ],
     "prompt_number": 118
    },
    {
     "cell_type": "code",
     "collapsed": false,
     "input": [
      "np.logical_and(a, b)"
     ],
     "language": "python",
     "metadata": {},
     "outputs": []
    },
    {
     "cell_type": "markdown",
     "metadata": {},
     "source": [
      "* Shape mismatches:"
     ]
    },
    {
     "cell_type": "code",
     "collapsed": false,
     "input": [
      "a = np.arange(4)\n",
      "a"
     ],
     "language": "python",
     "metadata": {},
     "outputs": [
      {
       "metadata": {},
       "output_type": "pyout",
       "prompt_number": 119,
       "text": [
        "array([0, 1, 2, 3])"
       ]
      }
     ],
     "prompt_number": 119
    },
    {
     "cell_type": "code",
     "collapsed": false,
     "input": [
      "a + np.array([1, 2])"
     ],
     "language": "python",
     "metadata": {},
     "outputs": [
      {
       "ename": "ValueError",
       "evalue": "operands could not be broadcast together with shapes (4,) (2,) ",
       "output_type": "pyerr",
       "traceback": [
        "\u001b[1;31m---------------------------------------------------------------------------\u001b[0m\n\u001b[1;31mValueError\u001b[0m                                Traceback (most recent call last)",
        "\u001b[1;32m<ipython-input-120-033edaa49cc8>\u001b[0m in \u001b[0;36m<module>\u001b[1;34m()\u001b[0m\n\u001b[1;32m----> 1\u001b[1;33m \u001b[0ma\u001b[0m \u001b[1;33m+\u001b[0m \u001b[0mnp\u001b[0m\u001b[1;33m.\u001b[0m\u001b[0marray\u001b[0m\u001b[1;33m(\u001b[0m\u001b[1;33m[\u001b[0m\u001b[1;36m1\u001b[0m\u001b[1;33m,\u001b[0m \u001b[1;36m2\u001b[0m\u001b[1;33m]\u001b[0m\u001b[1;33m)\u001b[0m\u001b[1;33m\u001b[0m\u001b[0m\n\u001b[0m",
        "\u001b[1;31mValueError\u001b[0m: operands could not be broadcast together with shapes (4,) (2,) "
       ]
      }
     ],
     "prompt_number": 120
    },
    {
     "cell_type": "markdown",
     "metadata": {},
     "source": [
      "* **\u2018Broadcast\u2019?** We\u2019ll return to that later."
     ]
    },
    {
     "cell_type": "markdown",
     "metadata": {},
     "source": [
      "* Transposition:"
     ]
    },
    {
     "cell_type": "code",
     "collapsed": false,
     "input": [
      "a = np.triu(np.ones((3, 3)), 1) # see help(np.triu)\n",
      "a"
     ],
     "language": "python",
     "metadata": {},
     "outputs": [
      {
       "metadata": {},
       "output_type": "pyout",
       "prompt_number": 121,
       "text": [
        "array([[ 0.,  1.,  1.],\n",
        "       [ 0.,  0.,  1.],\n",
        "       [ 0.,  0.,  0.]])"
       ]
      }
     ],
     "prompt_number": 121
    },
    {
     "cell_type": "code",
     "collapsed": false,
     "input": [
      "a.T"
     ],
     "language": "python",
     "metadata": {},
     "outputs": [
      {
       "metadata": {},
       "output_type": "pyout",
       "prompt_number": 122,
       "text": [
        "array([[ 0.,  0.,  0.],\n",
        "       [ 1.,  0.,  0.],\n",
        "       [ 1.,  1.,  0.]])"
       ]
      }
     ],
     "prompt_number": 122
    },
    {
     "cell_type": "markdown",
     "metadata": {},
     "source": [
      "**Note: Linear algebra**\n",
      "    \n",
      "* The sub-module np.linalg implements basic linear algebra\n",
      "  * solving linear systems\n",
      "  * singular value decomposition\n",
      "  * etc\n",
      "\n",
      "* However, \n",
      "  * it is not guaranteed to be compiled using efficient routines\n",
      "  * thus the use of **scipy.linalg** is recommended... "
     ]
    },
    {
     "cell_type": "markdown",
     "metadata": {},
     "source": [
      "**Basic reductions**\n",
      "\n",
      "* Computing sums:"
     ]
    },
    {
     "cell_type": "code",
     "collapsed": false,
     "input": [
      "x = np.array([1, 2, 3, 4])\n",
      "np.sum(x)"
     ],
     "language": "python",
     "metadata": {},
     "outputs": [
      {
       "metadata": {},
       "output_type": "pyout",
       "prompt_number": 123,
       "text": [
        "10"
       ]
      }
     ],
     "prompt_number": 123
    },
    {
     "cell_type": "code",
     "collapsed": false,
     "input": [
      "x.sum()"
     ],
     "language": "python",
     "metadata": {},
     "outputs": []
    },
    {
     "cell_type": "markdown",
     "metadata": {},
     "source": [
      "* Sum by rows and by columns:"
     ]
    },
    {
     "cell_type": "code",
     "collapsed": false,
     "input": [
      "x = np.array([[1, 1], [2, 2]])\n",
      "x"
     ],
     "language": "python",
     "metadata": {},
     "outputs": [
      {
       "metadata": {},
       "output_type": "pyout",
       "prompt_number": 124,
       "text": [
        "array([[1, 1],\n",
        "       [2, 2]])"
       ]
      }
     ],
     "prompt_number": 124
    },
    {
     "cell_type": "code",
     "collapsed": false,
     "input": [
      "x.sum(axis=0) # columns (first dimension)"
     ],
     "language": "python",
     "metadata": {},
     "outputs": [
      {
       "metadata": {},
       "output_type": "pyout",
       "prompt_number": 125,
       "text": [
        "array([3, 3])"
       ]
      }
     ],
     "prompt_number": 125
    },
    {
     "cell_type": "code",
     "collapsed": false,
     "input": [
      "x[:, 0].sum(), x[:, 1].sum()"
     ],
     "language": "python",
     "metadata": {},
     "outputs": [
      {
       "metadata": {},
       "output_type": "pyout",
       "prompt_number": 126,
       "text": [
        "(3, 3)"
       ]
      }
     ],
     "prompt_number": 126
    },
    {
     "cell_type": "code",
     "collapsed": false,
     "input": [
      "x.sum(axis=1) # rows (second dimension)"
     ],
     "language": "python",
     "metadata": {},
     "outputs": []
    },
    {
     "cell_type": "code",
     "collapsed": false,
     "input": [
      "x[0, :].sum(), x[1, :].sum()"
     ],
     "language": "python",
     "metadata": {},
     "outputs": []
    },
    {
     "cell_type": "markdown",
     "metadata": {},
     "source": [
      "* Same idea in higher dimensions:"
     ]
    },
    {
     "cell_type": "code",
     "collapsed": false,
     "input": [
      "x = np.random.rand(2, 2, 2)\n",
      "x.sum(axis=2)[0, 1]"
     ],
     "language": "python",
     "metadata": {},
     "outputs": []
    },
    {
     "cell_type": "code",
     "collapsed": false,
     "input": [
      "x[0, 1, :].sum()"
     ],
     "language": "python",
     "metadata": {},
     "outputs": []
    },
    {
     "cell_type": "markdown",
     "metadata": {},
     "source": [
      "**Other reductions\u2014 works the same way (and take axis=)**\n",
      "\n",
      "* Statistics:"
     ]
    },
    {
     "cell_type": "code",
     "collapsed": false,
     "input": [
      "x = np.array([1, 2, 3, 1])\n",
      "y = np.array([[1, 2, 3], [5, 6, 1]])\n",
      "x.mean()"
     ],
     "language": "python",
     "metadata": {},
     "outputs": []
    },
    {
     "cell_type": "code",
     "collapsed": false,
     "input": [
      "np.median(x)"
     ],
     "language": "python",
     "metadata": {},
     "outputs": []
    },
    {
     "cell_type": "code",
     "collapsed": false,
     "input": [
      "np.median(y, axis=-1) # last axis"
     ],
     "language": "python",
     "metadata": {},
     "outputs": []
    },
    {
     "cell_type": "code",
     "collapsed": false,
     "input": [
      "x.std() # full population standard dev."
     ],
     "language": "python",
     "metadata": {},
     "outputs": []
    },
    {
     "cell_type": "markdown",
     "metadata": {},
     "source": [
      "* Extrema:"
     ]
    },
    {
     "cell_type": "code",
     "collapsed": false,
     "input": [
      "x = np.array([1, 3, 2])\n",
      "x.min()"
     ],
     "language": "python",
     "metadata": {},
     "outputs": []
    },
    {
     "cell_type": "code",
     "collapsed": false,
     "input": [
      "x.max()"
     ],
     "language": "python",
     "metadata": {},
     "outputs": []
    },
    {
     "cell_type": "code",
     "collapsed": false,
     "input": [
      "x.argmin() # index of minimum"
     ],
     "language": "python",
     "metadata": {},
     "outputs": []
    },
    {
     "cell_type": "code",
     "collapsed": false,
     "input": [
      "x.argmax() # index of maximum"
     ],
     "language": "python",
     "metadata": {},
     "outputs": []
    },
    {
     "cell_type": "markdown",
     "metadata": {},
     "source": [
      "* Logical operations:"
     ]
    },
    {
     "cell_type": "code",
     "collapsed": false,
     "input": [
      "np.all([True, True, False])"
     ],
     "language": "python",
     "metadata": {},
     "outputs": []
    },
    {
     "cell_type": "code",
     "collapsed": false,
     "input": [
      "np.any([True, True, False])"
     ],
     "language": "python",
     "metadata": {},
     "outputs": []
    },
    {
     "cell_type": "markdown",
     "metadata": {},
     "source": [
      "**Note:** Can be used for array comparisons:"
     ]
    },
    {
     "cell_type": "code",
     "collapsed": false,
     "input": [
      "a = np.zeros((100, 100))\n",
      "np.any(a != 0)"
     ],
     "language": "python",
     "metadata": {},
     "outputs": []
    },
    {
     "cell_type": "code",
     "collapsed": false,
     "input": [
      "np.all(a == a)"
     ],
     "language": "python",
     "metadata": {},
     "outputs": []
    },
    {
     "cell_type": "code",
     "collapsed": false,
     "input": [
      "a = np.array([1, 2, 3, 2])\n",
      "b = np.array([2, 2, 3, 2])\n",
      "c = np.array([6, 4, 4, 5])\n",
      "((a <= b) & (b <= c)).all()"
     ],
     "language": "python",
     "metadata": {},
     "outputs": []
    },
    {
     "cell_type": "markdown",
     "metadata": {},
     "source": [
      "* ... and many more (best to learn as you go)."
     ]
    },
    {
     "cell_type": "heading",
     "level": 2,
     "metadata": {},
     "source": [
      "Broadcasting"
     ]
    },
    {
     "cell_type": "markdown",
     "metadata": {},
     "source": [
      "* Basic operations on numpy arrays (addition, etc.) are elementwise\n",
      "* This works on arrays of the same size.\n",
      "\n",
      "**Nevertheless**\n",
      "\n",
      "* It\u2019s also possible to do operations on arrays of different sizes \n",
      "* if Numpy can transform these arrays so that they all have the same size\n",
      "* this conversion is called broadcasting."
     ]
    },
    {
     "cell_type": "markdown",
     "metadata": {},
     "source": [
      "* Consider the following example of broadcasting:"
     ]
    },
    {
     "cell_type": "code",
     "collapsed": false,
     "input": [
      "a = np.tile(np.arange(0, 40, 10), (3, 1)).T\n",
      "a"
     ],
     "language": "python",
     "metadata": {},
     "outputs": [
      {
       "metadata": {},
       "output_type": "pyout",
       "prompt_number": 134,
       "text": [
        "array([[ 0,  0,  0],\n",
        "       [10, 10, 10],\n",
        "       [20, 20, 20],\n",
        "       [30, 30, 30]])"
       ]
      }
     ],
     "prompt_number": 134
    },
    {
     "cell_type": "code",
     "collapsed": false,
     "input": [
      "b = np.array([0, 1, 2])\n",
      "b"
     ],
     "language": "python",
     "metadata": {},
     "outputs": [
      {
       "metadata": {},
       "output_type": "pyout",
       "prompt_number": 131,
       "text": [
        "array([0, 1, 2])"
       ]
      }
     ],
     "prompt_number": 131
    },
    {
     "cell_type": "code",
     "collapsed": false,
     "input": [
      "a+b"
     ],
     "language": "python",
     "metadata": {},
     "outputs": [
      {
       "metadata": {},
       "output_type": "pyout",
       "prompt_number": 135,
       "text": [
        "array([[ 0,  1,  2],\n",
        "       [10, 11, 12],\n",
        "       [20, 21, 22],\n",
        "       [30, 31, 32]])"
       ]
      }
     ],
     "prompt_number": 135
    },
    {
     "cell_type": "markdown",
     "metadata": {},
     "source": [
      "* A useful trick:"
     ]
    },
    {
     "cell_type": "code",
     "collapsed": false,
     "input": [
      "a = np.arange(0, 40, 10)\n",
      "a.shape"
     ],
     "language": "python",
     "metadata": {},
     "outputs": [
      {
       "metadata": {},
       "output_type": "pyout",
       "prompt_number": 136,
       "text": [
        "(4,)"
       ]
      }
     ],
     "prompt_number": 136
    },
    {
     "cell_type": "code",
     "collapsed": false,
     "input": [
      "a = a[:, np.newaxis] # adds a new axis -> 2D array\n",
      "a.shape"
     ],
     "language": "python",
     "metadata": {},
     "outputs": [
      {
       "metadata": {},
       "output_type": "pyout",
       "prompt_number": 137,
       "text": [
        "(4, 1)"
       ]
      }
     ],
     "prompt_number": 137
    },
    {
     "cell_type": "code",
     "collapsed": false,
     "input": [
      "b"
     ],
     "language": "python",
     "metadata": {},
     "outputs": [
      {
       "metadata": {},
       "output_type": "pyout",
       "prompt_number": 140,
       "text": [
        "array([0, 1, 2])"
       ]
      }
     ],
     "prompt_number": 140
    },
    {
     "cell_type": "code",
     "collapsed": false,
     "input": [
      "a"
     ],
     "language": "python",
     "metadata": {},
     "outputs": [
      {
       "metadata": {},
       "output_type": "pyout",
       "prompt_number": 141,
       "text": [
        "array([[ 0],\n",
        "       [10],\n",
        "       [20],\n",
        "       [30]])"
       ]
      }
     ],
     "prompt_number": 141
    },
    {
     "cell_type": "code",
     "collapsed": false,
     "input": [
      "a + b"
     ],
     "language": "python",
     "metadata": {},
     "outputs": [
      {
       "metadata": {},
       "output_type": "pyout",
       "prompt_number": 142,
       "text": [
        "array([[ 0,  1,  2],\n",
        "       [10, 11, 12],\n",
        "       [20, 21, 22],\n",
        "       [30, 31, 32]])"
       ]
      }
     ],
     "prompt_number": 142
    },
    {
     "cell_type": "markdown",
     "metadata": {},
     "source": [
      "* We have already used broadcasting without knowing it!:"
     ]
    },
    {
     "cell_type": "code",
     "collapsed": false,
     "input": [
      "a = np.ones((4, 5))\n",
      "a[0] = 2 # we assign an array of dimension 0 to an array of dimension 1\n",
      "a"
     ],
     "language": "python",
     "metadata": {},
     "outputs": []
    },
    {
     "cell_type": "markdown",
     "metadata": {},
     "source": [
      "* Broadcasting seems a bit magical\n",
      "* but it is actually quite natural to use it\n",
      "* e.g., when we want to solve a problem whose output data is an array with more dimensions than input data."
     ]
    },
    {
     "cell_type": "heading",
     "level": 2,
     "metadata": {},
     "source": [
      "Array shape manipulation"
     ]
    },
    {
     "cell_type": "heading",
     "level": 3,
     "metadata": {},
     "source": [
      "Flattening"
     ]
    },
    {
     "cell_type": "code",
     "collapsed": false,
     "input": [
      "import numpy as np\n",
      "a = np.array([[1, 2, 3], [4, 5, 6]])\n",
      "a.ravel()"
     ],
     "language": "python",
     "metadata": {},
     "outputs": []
    },
    {
     "cell_type": "code",
     "collapsed": false,
     "input": [
      "a.T.ravel()"
     ],
     "language": "python",
     "metadata": {},
     "outputs": []
    },
    {
     "cell_type": "markdown",
     "metadata": {},
     "source": [
      "* Higher dimensions: last dimensions ravel out \u201cfirst\u201d."
     ]
    },
    {
     "cell_type": "heading",
     "level": 3,
     "metadata": {},
     "source": [
      "Reshaping"
     ]
    },
    {
     "cell_type": "markdown",
     "metadata": {},
     "source": [
      "* The inverse operation to flattening:"
     ]
    },
    {
     "cell_type": "code",
     "collapsed": false,
     "input": [
      "a.shape"
     ],
     "language": "python",
     "metadata": {},
     "outputs": []
    },
    {
     "cell_type": "code",
     "collapsed": false,
     "input": [
      "b = a.ravel()\n",
      "b.reshape((2, 3))"
     ],
     "language": "python",
     "metadata": {},
     "outputs": []
    },
    {
     "cell_type": "markdown",
     "metadata": {},
     "source": [
      "* Creating an array with a different shape, from another array:"
     ]
    },
    {
     "cell_type": "code",
     "collapsed": false,
     "input": [
      "a = np.arange(36)\n",
      "b = a.reshape((6, 6))\n",
      "b"
     ],
     "language": "python",
     "metadata": {},
     "outputs": []
    },
    {
     "cell_type": "markdown",
     "metadata": {},
     "source": [
      "* Or,"
     ]
    },
    {
     "cell_type": "code",
     "collapsed": false,
     "input": [
      "b = a.reshape((6, -1)) # unspecified (-1) value is inferred\n",
      "b"
     ],
     "language": "python",
     "metadata": {},
     "outputs": []
    },
    {
     "cell_type": "heading",
     "level": 3,
     "metadata": {},
     "source": [
      "Views and copies\n"
     ]
    },
    {
     "cell_type": "markdown",
     "metadata": {},
     "source": [
      "* ndarray.reshape may return a view (cf help(np.reshape))), not a copy:"
     ]
    },
    {
     "cell_type": "code",
     "collapsed": false,
     "input": [
      "b[0, 0] = 99\n",
      "a"
     ],
     "language": "python",
     "metadata": {},
     "outputs": []
    },
    {
     "cell_type": "markdown",
     "metadata": {},
     "source": [
      "* Beware: reshape may also return a copy!"
     ]
    },
    {
     "cell_type": "code",
     "collapsed": false,
     "input": [
      "a = np.zeros((3, 2))\n",
      "b = a.T.reshape(3*2)\n",
      "b[0] = 9\n",
      "a"
     ],
     "language": "python",
     "metadata": {},
     "outputs": []
    },
    {
     "cell_type": "markdown",
     "metadata": {},
     "source": [
      "* To understand, one would need to take a deeper look into the memory layout of an array."
     ]
    },
    {
     "cell_type": "heading",
     "level": 3,
     "metadata": {},
     "source": [
      "Dimension shuffling"
     ]
    },
    {
     "cell_type": "code",
     "collapsed": false,
     "input": [
      "a = np.arange(4*3*2).reshape(4, 3, 2)\n",
      "a.shape"
     ],
     "language": "python",
     "metadata": {},
     "outputs": []
    },
    {
     "cell_type": "code",
     "collapsed": false,
     "input": [
      "a[0, 2, 1]"
     ],
     "language": "python",
     "metadata": {},
     "outputs": []
    },
    {
     "cell_type": "code",
     "collapsed": false,
     "input": [
      "b = a.transpose(1, 2, 0)\n",
      "b.shape"
     ],
     "language": "python",
     "metadata": {},
     "outputs": []
    },
    {
     "cell_type": "code",
     "collapsed": false,
     "input": [
      "b[2, 1, 0]"
     ],
     "language": "python",
     "metadata": {},
     "outputs": []
    },
    {
     "cell_type": "markdown",
     "metadata": {},
     "source": [
      "* Also creates a view:"
     ]
    },
    {
     "cell_type": "code",
     "collapsed": false,
     "input": [
      "b[2, 1, 0] = -1\n",
      "a[0, 2, 1]"
     ],
     "language": "python",
     "metadata": {},
     "outputs": []
    },
    {
     "cell_type": "heading",
     "level": 3,
     "metadata": {},
     "source": [
      "Resizing"
     ]
    },
    {
     "cell_type": "markdown",
     "metadata": {},
     "source": [
      "* Size of an array can be changed with ndarray.resize:"
     ]
    },
    {
     "cell_type": "code",
     "collapsed": false,
     "input": [
      "a = np.arange(4)\n",
      "a.resize((8,))\n",
      "a"
     ],
     "language": "python",
     "metadata": {},
     "outputs": []
    },
    {
     "cell_type": "markdown",
     "metadata": {},
     "source": [
      "However, it must not be referred to somewhere else:"
     ]
    },
    {
     "cell_type": "code",
     "collapsed": false,
     "input": [
      "b = a\n",
      "a.resize((4,))"
     ],
     "language": "python",
     "metadata": {},
     "outputs": []
    },
    {
     "cell_type": "heading",
     "level": 3,
     "metadata": {},
     "source": [
      "Sorting data"
     ]
    },
    {
     "cell_type": "markdown",
     "metadata": {},
     "source": [
      "* Sorting along an axis:"
     ]
    },
    {
     "cell_type": "code",
     "collapsed": false,
     "input": [
      "a = np.array([[4, 3, 5], [1, 2, 1]])\n",
      "b = np.sort(a, axis=1)\n",
      "b"
     ],
     "language": "python",
     "metadata": {},
     "outputs": []
    },
    {
     "cell_type": "markdown",
     "metadata": {},
     "source": [
      "* Note: Sorts each row separately!\n",
      "    \n",
      "* In-place sort:"
     ]
    },
    {
     "cell_type": "code",
     "collapsed": false,
     "input": [
      "a.sort(axis=1)\n",
      "a"
     ],
     "language": "python",
     "metadata": {},
     "outputs": []
    },
    {
     "cell_type": "markdown",
     "metadata": {},
     "source": [
      "* Sorting with fancy indexing:"
     ]
    },
    {
     "cell_type": "code",
     "collapsed": false,
     "input": [
      "a = np.array([4, 3, 1, 2])\n",
      "j = np.argsort(a)\n",
      "j"
     ],
     "language": "python",
     "metadata": {},
     "outputs": []
    },
    {
     "cell_type": "code",
     "collapsed": false,
     "input": [
      "a[j]"
     ],
     "language": "python",
     "metadata": {},
     "outputs": []
    },
    {
     "cell_type": "markdown",
     "metadata": {},
     "source": [
      "* Finding minima and maxima:"
     ]
    },
    {
     "cell_type": "code",
     "collapsed": false,
     "input": [
      "a = np.array([4, 3, 1, 2])\n",
      "j_max = np.argmax(a)\n",
      "j_min = np.argmin(a)\n",
      "j_max, j_min"
     ],
     "language": "python",
     "metadata": {},
     "outputs": []
    },
    {
     "cell_type": "heading",
     "level": 1,
     "metadata": {},
     "source": [
      "Basic Visualization"
     ]
    },
    {
     "cell_type": "markdown",
     "metadata": {},
     "source": [
      "(See Ch. 3, **\"Python Scientific lecture notes\"**, Release 2012.3 (EuroScipy 2012) \n",
      "\n",
      "by the EuroScipy tutorial team\n",
      "\n",
      "Editors: *Valentin Haenel, Emmanuelle Gouillart, Ga\u00ebl Varoquaux*\n",
      "\n",
      "http://scipy-lectures.github.com) "
     ]
    },
    {
     "cell_type": "markdown",
     "metadata": {},
     "source": [
      "**You may also need to visualize your data arrays.**"
     ]
    },
    {
     "cell_type": "markdown",
     "metadata": {},
     "source": [
      "Matplotlib is a Python plotting library. Its capabilities and interface are quite\n",
      "similar to the ones offered by Matlab. It can be used to display the results of\n",
      "your calculations, create publication quality \f",
      "gures and can be embedded in\n",
      "graphical user interfaces."
     ]
    },
    {
     "cell_type": "markdown",
     "metadata": {},
     "source": [
      "* Matplotlib is a 2D plotting package. \n",
      "\n",
      "* We can import its functions as below:"
     ]
    },
    {
     "cell_type": "code",
     "collapsed": false,
     "input": [
      "import matplotlib.pyplot as plt # the tidy way\n",
      "import numpy as np\n"
     ],
     "language": "python",
     "metadata": {},
     "outputs": []
    },
    {
     "cell_type": "heading",
     "level": 2,
     "metadata": {},
     "source": [
      "1D plotting"
     ]
    },
    {
     "cell_type": "code",
     "collapsed": false,
     "input": [
      "x = np.linspace(0, 3, 20)\n",
      "y = np.linspace(0, 9, 20)\n",
      "plt.figure()\n",
      "plt.plot(x, y) # line plot\n",
      "plt.plot(x, y,'o') # dot plot\n",
      "plt.show() # <-- shows the plot (not needed with Ipython)"
     ],
     "language": "python",
     "metadata": {},
     "outputs": []
    },
    {
     "cell_type": "heading",
     "level": 3,
     "metadata": {},
     "source": [
      "Plotting *into* the notebook"
     ]
    },
    {
     "cell_type": "code",
     "collapsed": false,
     "input": [
      "# Add the following line to make plots *appear* within the iypthon notebook\n",
      "%matplotlib inline"
     ],
     "language": "python",
     "metadata": {},
     "outputs": []
    },
    {
     "cell_type": "heading",
     "level": 2,
     "metadata": {},
     "source": [
      "Labels"
     ]
    },
    {
     "cell_type": "code",
     "collapsed": false,
     "input": [
      "x = np.linspace(0, 3, 20)\n",
      "y = np.linspace(0, 9, 20)\n",
      "\n",
      "plt.figure()\n",
      "plt.plot(x, y) # line plot\n",
      "plt.plot(x, y,'o') # dot plot\n",
      "\n",
      "plt.xlabel('input')\n",
      "plt.ylabel('output')\n",
      "plt.title('Input-Output-Relationship')"
     ],
     "language": "python",
     "metadata": {},
     "outputs": []
    },
    {
     "cell_type": "heading",
     "level": 2,
     "metadata": {},
     "source": [
      "2D plotting"
     ]
    },
    {
     "cell_type": "markdown",
     "metadata": {},
     "source": [
      "(such as images)"
     ]
    },
    {
     "cell_type": "code",
     "collapsed": false,
     "input": [
      "image = np.random.rand(30, 30)\n",
      "plt.imshow(image, cmap=plt.cm.gray)\n",
      "plt.colorbar()"
     ],
     "language": "python",
     "metadata": {},
     "outputs": []
    },
    {
     "cell_type": "heading",
     "level": 2,
     "metadata": {},
     "source": [
      "Subplots"
     ]
    },
    {
     "cell_type": "code",
     "collapsed": false,
     "input": [
      "x = np.linspace(0, 3, 20)\n",
      "y = np.linspace(0, 9, 20)\n",
      "image = np.random.rand(30, 30)\n",
      "\n",
      "plt.figure()\n",
      "\n",
      "plt.subplot(1,2,1)\n",
      "plt.plot(x, y) # line plot\n",
      "plt.plot(x, y,'o') # dot plot\n",
      "\n",
      "plt.subplot(1,2,2)\n",
      "plt.imshow(image, cmap=plt.cm.gray)\n",
      "plt.colorbar()"
     ],
     "language": "python",
     "metadata": {},
     "outputs": []
    },
    {
     "cell_type": "heading",
     "level": 2,
     "metadata": {},
     "source": [
      "An example of broadcasting in grid-based computations"
     ]
    },
    {
     "cell_type": "markdown",
     "metadata": {},
     "source": [
      "* A lot of grid-based or network-based problems can also use broadcasting. \n",
      "* For instance, if we want to compute the distance from the origin of points on a 5 x 5 grid, we can do:"
     ]
    },
    {
     "cell_type": "code",
     "collapsed": false,
     "input": [
      "x, y = np.arange(5), np.arange(5)\n",
      "distance = np.sqrt(x ** 2 + y[:, np.newaxis] ** 2)\n",
      "distance"
     ],
     "language": "python",
     "metadata": {},
     "outputs": []
    },
    {
     "cell_type": "code",
     "collapsed": false,
     "input": [
      "plt.pcolor(distance)\n",
      "plt.colorbar() \n",
      "plt.axis('equal')"
     ],
     "language": "python",
     "metadata": {},
     "outputs": []
    },
    {
     "cell_type": "markdown",
     "metadata": {},
     "source": [
      "* or for a set of more general distances..."
     ]
    },
    {
     "cell_type": "code",
     "collapsed": false,
     "input": [
      "Mileposts = np.random.random_integers(1,50,10)\n",
      "Mileposts[0] = 0\n",
      "Mileposts"
     ],
     "language": "python",
     "metadata": {},
     "outputs": []
    },
    {
     "cell_type": "code",
     "collapsed": false,
     "input": [
      "DistAlongRoad = np.cumsum(Mileposts)\n",
      "DistAlongRoad"
     ],
     "language": "python",
     "metadata": {},
     "outputs": []
    },
    {
     "cell_type": "code",
     "collapsed": false,
     "input": [
      "PtPtDist = np.abs(DistAlongRoad - DistAlongRoad[:, np.newaxis])\n",
      "PtPtDist"
     ],
     "language": "python",
     "metadata": {},
     "outputs": []
    },
    {
     "cell_type": "code",
     "collapsed": false,
     "input": [
      "plt.pcolor(PtPtDist) \n",
      "plt.colorbar() \n",
      "plt.axis('equal')"
     ],
     "language": "python",
     "metadata": {},
     "outputs": []
    },
    {
     "cell_type": "code",
     "collapsed": false,
     "input": [],
     "language": "python",
     "metadata": {},
     "outputs": []
    },
    {
     "cell_type": "code",
     "collapsed": false,
     "input": [],
     "language": "python",
     "metadata": {},
     "outputs": []
    }
   ],
   "metadata": {}
  }
 ]
}